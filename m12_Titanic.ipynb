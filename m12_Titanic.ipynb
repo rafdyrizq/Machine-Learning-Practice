{
 "metadata": {
  "language_info": {
   "codemirror_mode": {
    "name": "ipython",
    "version": 3
   },
   "file_extension": ".py",
   "mimetype": "text/x-python",
   "name": "python",
   "nbconvert_exporter": "python",
   "pygments_lexer": "ipython3",
   "version": "3.7.6-final"
  },
  "orig_nbformat": 2,
  "kernelspec": {
   "name": "python3",
   "display_name": "Python 3",
   "language": "python"
  }
 },
 "nbformat": 4,
 "nbformat_minor": 2,
 "cells": [
  {
   "source": [
    "# Titanic.csv\r\n",
    "\r\n",
    "* Explore: Bagaimana setiap feature berhubungan dengan apakah seseorang survive/ alive.\r\n",
    "* Splitting: 80-20, stratify: y, random state 2020\r\n",
    "* Preprocessing: \r\n",
    ">* drop deck\r\n",
    ">* Isi missing value menggunakan simple imputer \r\n",
    ">* onehot encoding: sex, alone  \r\n",
    ">* ordinal encoding: class  \r\n",
    ">* binary encoding: embarked town  \r\n",
    "\r\n",
    "* Model selection:\r\n",
    ">* evaluation metric yang dipakai: F1_score\r\n",
    ">* Logreg, KNN, DecisionTreeClassifier, RandomForestClassifier\r\n",
    ">* Hyperparameter tuning 2 model yang menurut kalian terbaik\r\n",
    ">* Buat summary untuk hasil evaluasi, dan kesimpulan mana model yang terbaik untuk titanic.csv\r\n",
    "\r\n",
    "Kalau bisa, gunakan pipeline ketika diperlukan untuk menghindari data leaking.\r\n",
    "\r\n",
    "email hasil modelling kalian ke Brigita.gems@gmail.com dengan subject: titanic\r\n"
   ],
   "cell_type": "markdown",
   "metadata": {}
  },
  {
   "cell_type": "code",
   "execution_count": 284,
   "metadata": {},
   "outputs": [],
   "source": [
    "import numpy as np\n",
    "import pandas as pd\n",
    "import matplotlib.pyplot as plt\n",
    "import seaborn as sns\n",
    "\n",
    "# PREPROCESSING\n",
    "from sklearn.impute import SimpleImputer\n",
    "from sklearn.compose import ColumnTransformer # untuk transformers\n",
    "from sklearn.pipeline import Pipeline\n",
    "from sklearn.preprocessing import OneHotEncoder\n",
    "import category_encoders as ce # untuk ordinal dan binary encoder\n",
    "from sklearn.preprocessing import StandardScaler, PolynomialFeatures\n",
    "\n",
    "from sklearn.model_selection import train_test_split, cross_val_score, StratifiedKFold, GridSearchCV, RandomizedSearchCV  \n",
    "\n",
    "# Model machine learninng\n",
    "from sklearn.linear_model import LogisticRegression\n",
    "from sklearn.neighbors import KNeighborsClassifier\n",
    "from sklearn.tree import DecisionTreeClassifier\n",
    "from sklearn.ensemble import RandomForestClassifier\n",
    "from sklearn.ensemble import VotingClassifier # voting\n",
    "\n",
    "\n",
    "from sklearn.metrics import classification_report, f1_score, recall_score, precision_score"
   ]
  },
  {
   "cell_type": "code",
   "execution_count": 285,
   "metadata": {},
   "outputs": [
    {
     "output_type": "execute_result",
     "data": {
      "text/plain": [
       "      sex   age  parch     fare  class deck  embark_town alive  alone\n",
       "0    male  22.0      0   7.2500  Third  NaN  Southampton    no  False\n",
       "1  female  38.0      0  71.2833  First    C    Cherbourg   yes  False\n",
       "2  female  26.0      0   7.9250  Third  NaN  Southampton   yes   True"
      ],
      "text/html": "<div>\n<style scoped>\n    .dataframe tbody tr th:only-of-type {\n        vertical-align: middle;\n    }\n\n    .dataframe tbody tr th {\n        vertical-align: top;\n    }\n\n    .dataframe thead th {\n        text-align: right;\n    }\n</style>\n<table border=\"1\" class=\"dataframe\">\n  <thead>\n    <tr style=\"text-align: right;\">\n      <th></th>\n      <th>sex</th>\n      <th>age</th>\n      <th>parch</th>\n      <th>fare</th>\n      <th>class</th>\n      <th>deck</th>\n      <th>embark_town</th>\n      <th>alive</th>\n      <th>alone</th>\n    </tr>\n  </thead>\n  <tbody>\n    <tr>\n      <th>0</th>\n      <td>male</td>\n      <td>22.0</td>\n      <td>0</td>\n      <td>7.2500</td>\n      <td>Third</td>\n      <td>NaN</td>\n      <td>Southampton</td>\n      <td>no</td>\n      <td>False</td>\n    </tr>\n    <tr>\n      <th>1</th>\n      <td>female</td>\n      <td>38.0</td>\n      <td>0</td>\n      <td>71.2833</td>\n      <td>First</td>\n      <td>C</td>\n      <td>Cherbourg</td>\n      <td>yes</td>\n      <td>False</td>\n    </tr>\n    <tr>\n      <th>2</th>\n      <td>female</td>\n      <td>26.0</td>\n      <td>0</td>\n      <td>7.9250</td>\n      <td>Third</td>\n      <td>NaN</td>\n      <td>Southampton</td>\n      <td>yes</td>\n      <td>True</td>\n    </tr>\n  </tbody>\n</table>\n</div>"
     },
     "metadata": {},
     "execution_count": 285
    }
   ],
   "source": [
    "# load dataset\n",
    "df = pd.read_csv('titanic.csv')\n",
    "df.head(3)"
   ]
  },
  {
   "cell_type": "code",
   "execution_count": 286,
   "metadata": {},
   "outputs": [
    {
     "output_type": "stream",
     "name": "stdout",
     "text": [
      "<class 'pandas.core.frame.DataFrame'>\nRangeIndex: 891 entries, 0 to 890\nData columns (total 9 columns):\n #   Column       Non-Null Count  Dtype  \n---  ------       --------------  -----  \n 0   sex          891 non-null    object \n 1   age          714 non-null    float64\n 2   parch        891 non-null    int64  \n 3   fare         891 non-null    float64\n 4   class        891 non-null    object \n 5   deck         203 non-null    object \n 6   embark_town  889 non-null    object \n 7   alive        891 non-null    object \n 8   alone        891 non-null    bool   \ndtypes: bool(1), float64(2), int64(1), object(5)\nmemory usage: 56.7+ KB\n"
     ]
    }
   ],
   "source": [
    "df.info()"
   ]
  },
  {
   "cell_type": "code",
   "execution_count": 287,
   "metadata": {},
   "outputs": [
    {
     "output_type": "execute_result",
     "data": {
      "text/plain": [
       "              age       parch        fare\n",
       "count  714.000000  891.000000  891.000000\n",
       "mean    29.699118    0.381594   32.204208\n",
       "std     14.526497    0.806057   49.693429\n",
       "min      0.420000    0.000000    0.000000\n",
       "25%     20.125000    0.000000    7.910400\n",
       "50%     28.000000    0.000000   14.454200\n",
       "75%     38.000000    0.000000   31.000000\n",
       "max     80.000000    6.000000  512.329200"
      ],
      "text/html": "<div>\n<style scoped>\n    .dataframe tbody tr th:only-of-type {\n        vertical-align: middle;\n    }\n\n    .dataframe tbody tr th {\n        vertical-align: top;\n    }\n\n    .dataframe thead th {\n        text-align: right;\n    }\n</style>\n<table border=\"1\" class=\"dataframe\">\n  <thead>\n    <tr style=\"text-align: right;\">\n      <th></th>\n      <th>age</th>\n      <th>parch</th>\n      <th>fare</th>\n    </tr>\n  </thead>\n  <tbody>\n    <tr>\n      <th>count</th>\n      <td>714.000000</td>\n      <td>891.000000</td>\n      <td>891.000000</td>\n    </tr>\n    <tr>\n      <th>mean</th>\n      <td>29.699118</td>\n      <td>0.381594</td>\n      <td>32.204208</td>\n    </tr>\n    <tr>\n      <th>std</th>\n      <td>14.526497</td>\n      <td>0.806057</td>\n      <td>49.693429</td>\n    </tr>\n    <tr>\n      <th>min</th>\n      <td>0.420000</td>\n      <td>0.000000</td>\n      <td>0.000000</td>\n    </tr>\n    <tr>\n      <th>25%</th>\n      <td>20.125000</td>\n      <td>0.000000</td>\n      <td>7.910400</td>\n    </tr>\n    <tr>\n      <th>50%</th>\n      <td>28.000000</td>\n      <td>0.000000</td>\n      <td>14.454200</td>\n    </tr>\n    <tr>\n      <th>75%</th>\n      <td>38.000000</td>\n      <td>0.000000</td>\n      <td>31.000000</td>\n    </tr>\n    <tr>\n      <th>max</th>\n      <td>80.000000</td>\n      <td>6.000000</td>\n      <td>512.329200</td>\n    </tr>\n  </tbody>\n</table>\n</div>"
     },
     "metadata": {},
     "execution_count": 287
    }
   ],
   "source": [
    "df.describe()"
   ]
  },
  {
   "cell_type": "code",
   "execution_count": 288,
   "metadata": {},
   "outputs": [
    {
     "output_type": "execute_result",
     "data": {
      "text/plain": [
       "sex              0\n",
       "age            177\n",
       "parch            0\n",
       "fare             0\n",
       "class            0\n",
       "deck           688\n",
       "embark_town      2\n",
       "alive            0\n",
       "alone            0\n",
       "dtype: int64"
      ]
     },
     "metadata": {},
     "execution_count": 288
    }
   ],
   "source": [
    "df.isna().sum()"
   ]
  },
  {
   "source": [
    "# 1. Preprocessing"
   ],
   "cell_type": "markdown",
   "metadata": {}
  },
  {
   "source": [
    "## Drop "
   ],
   "cell_type": "markdown",
   "metadata": {}
  },
  {
   "cell_type": "code",
   "execution_count": 289,
   "metadata": {},
   "outputs": [],
   "source": [
    "# drop column 'deck' karena missing value terlalu banyak\n",
    "df = df.drop(columns='deck')"
   ]
  },
  {
   "source": [
    "## Pipeline dan Transformer"
   ],
   "cell_type": "markdown",
   "metadata": {}
  },
  {
   "cell_type": "code",
   "execution_count": 290,
   "metadata": {},
   "outputs": [
    {
     "output_type": "execute_result",
     "data": {
      "text/plain": [
       "array(['Third', 'First', 'Second'], dtype=object)"
      ]
     },
     "metadata": {},
     "execution_count": 290
    }
   ],
   "source": [
    "df['class'].unique()"
   ]
  },
  {
   "cell_type": "code",
   "execution_count": 291,
   "metadata": {},
   "outputs": [],
   "source": [
    "# pipeline berisi imputing lalu binary encoding untuk 'embark_town' nanti\n",
    "binary_encoder_pipeline = Pipeline([\n",
    "    ('imputer', SimpleImputer(strategy='most_frequent')),\n",
    "    ('binary encoder', ce.BinaryEncoder())\n",
    "])\n",
    "\n",
    "# ordinal mapping untuk 'class' nanti\n",
    "ordinal_mapping = [\n",
    "    {'col':'class',\n",
    "    'mapping':{None:0, 'First':1, 'Second':2, 'Third':3}}\n",
    "]\n",
    "\n",
    "ordinal_encoder = ce.OrdinalEncoder(cols=['class'], mapping=ordinal_mapping)\n",
    "\n",
    "# transformer \n",
    "transformer = ColumnTransformer([\n",
    "    ('imputer', SimpleImputer(strategy='median'), ['age']),\n",
    "    ('one hot encoder', OneHotEncoder(drop='first'), ['sex','alone']),\n",
    "    ('ordinal encoder', ordinal_encoder, ['class']),\n",
    "    ('binary encoder', binary_encoder_pipeline, ['embark_town'])\n",
    "], remainder='passthrough')"
   ]
  },
  {
   "cell_type": "code",
   "execution_count": null,
   "metadata": {},
   "outputs": [],
   "source": []
  },
  {
   "source": [
    "## Split Data"
   ],
   "cell_type": "markdown",
   "metadata": {}
  },
  {
   "cell_type": "code",
   "execution_count": 292,
   "metadata": {},
   "outputs": [
    {
     "output_type": "execute_result",
     "data": {
      "text/plain": [
       "      sex   age  parch     fare  class  embark_town  alone  label\n",
       "0    male  22.0      0   7.2500  Third  Southampton  False      0\n",
       "1  female  38.0      0  71.2833  First    Cherbourg  False      1\n",
       "2  female  26.0      0   7.9250  Third  Southampton   True      1"
      ],
      "text/html": "<div>\n<style scoped>\n    .dataframe tbody tr th:only-of-type {\n        vertical-align: middle;\n    }\n\n    .dataframe tbody tr th {\n        vertical-align: top;\n    }\n\n    .dataframe thead th {\n        text-align: right;\n    }\n</style>\n<table border=\"1\" class=\"dataframe\">\n  <thead>\n    <tr style=\"text-align: right;\">\n      <th></th>\n      <th>sex</th>\n      <th>age</th>\n      <th>parch</th>\n      <th>fare</th>\n      <th>class</th>\n      <th>embark_town</th>\n      <th>alone</th>\n      <th>label</th>\n    </tr>\n  </thead>\n  <tbody>\n    <tr>\n      <th>0</th>\n      <td>male</td>\n      <td>22.0</td>\n      <td>0</td>\n      <td>7.2500</td>\n      <td>Third</td>\n      <td>Southampton</td>\n      <td>False</td>\n      <td>0</td>\n    </tr>\n    <tr>\n      <th>1</th>\n      <td>female</td>\n      <td>38.0</td>\n      <td>0</td>\n      <td>71.2833</td>\n      <td>First</td>\n      <td>Cherbourg</td>\n      <td>False</td>\n      <td>1</td>\n    </tr>\n    <tr>\n      <th>2</th>\n      <td>female</td>\n      <td>26.0</td>\n      <td>0</td>\n      <td>7.9250</td>\n      <td>Third</td>\n      <td>Southampton</td>\n      <td>True</td>\n      <td>1</td>\n    </tr>\n  </tbody>\n</table>\n</div>"
     },
     "metadata": {},
     "execution_count": 292
    }
   ],
   "source": [
    "# ganti target ('alive') jadi 0-1 ('label)\n",
    "df['label'] = np.where(df['alive']=='yes', 1, 0)\n",
    "\n",
    "# drop column 'alive'\n",
    "df = df.drop(columns='alive')\n",
    "\n",
    "df.head(3)"
   ]
  },
  {
   "cell_type": "code",
   "execution_count": 293,
   "metadata": {},
   "outputs": [
    {
     "output_type": "execute_result",
     "data": {
      "text/plain": [
       "0    549\n",
       "1    342\n",
       "Name: label, dtype: int64"
      ]
     },
     "metadata": {},
     "execution_count": 293
    }
   ],
   "source": [
    "df['label'].value_counts()"
   ]
  },
  {
   "cell_type": "code",
   "execution_count": 294,
   "metadata": {},
   "outputs": [],
   "source": [
    "# define X dan y\n",
    "# X drop alive dan label\n",
    "X = df.drop(columns='label')\n",
    "y = df['label']"
   ]
  },
  {
   "cell_type": "code",
   "execution_count": 295,
   "metadata": {},
   "outputs": [],
   "source": [
    "# split data\n",
    "# X_train di sini maksudnya adalah X_train_val\n",
    "X_train, X_test, y_train, y_test = train_test_split(\n",
    "    X,\n",
    "    y,\n",
    "    stratify=y,\n",
    "    test_size=0.2,\n",
    "    random_state=2020\n",
    ")"
   ]
  },
  {
   "source": [
    "## Data Transforming"
   ],
   "cell_type": "markdown",
   "metadata": {}
  },
  {
   "cell_type": "code",
   "execution_count": 296,
   "metadata": {},
   "outputs": [],
   "source": [
    "# # transformer difit\n",
    "# X_train = transformer.fit_transform(X_train)\n",
    "# X_test = transformer.transform(X_test)"
   ]
  },
  {
   "cell_type": "code",
   "execution_count": 297,
   "metadata": {},
   "outputs": [],
   "source": [
    "# X_train = pd.DataFrame(X_train)\n",
    "# X_train.head(3)"
   ]
  },
  {
   "cell_type": "code",
   "execution_count": 298,
   "metadata": {},
   "outputs": [],
   "source": [
    "# X_test = pd.DataFrame(X_test)\n",
    "# X_test.head(3)"
   ]
  },
  {
   "cell_type": "code",
   "execution_count": 299,
   "metadata": {},
   "outputs": [],
   "source": [
    "# transformer.transformers_"
   ]
  },
  {
   "cell_type": "code",
   "execution_count": 300,
   "metadata": {},
   "outputs": [],
   "source": [
    "# # mengambil nama feature\n",
    "# onehot_col = transformer.transformers_[1][1].get_feature_names()\n",
    "# ordinal_col = transformer.transformers_[2][1].get_feature_names()\n",
    "# binary_col = transformer.transformers_[3][1][1].get_feature_names()\n",
    "\n",
    "# # menamai features\n",
    "# features = ['age'] + list(onehot_col) + ordinal_col + binary_col + ['parch','fare']\n",
    "\n",
    "# X_train.columns = features\n",
    "# X_test.columns = features\n"
   ]
  },
  {
   "cell_type": "code",
   "execution_count": 301,
   "metadata": {},
   "outputs": [],
   "source": [
    "# X_train.head(3)"
   ]
  },
  {
   "cell_type": "code",
   "execution_count": 302,
   "metadata": {},
   "outputs": [],
   "source": [
    "# X_test.head(3)"
   ]
  },
  {
   "cell_type": "code",
   "execution_count": null,
   "metadata": {},
   "outputs": [],
   "source": []
  },
  {
   "source": [
    "# 2. Model Selection"
   ],
   "cell_type": "markdown",
   "metadata": {}
  },
  {
   "cell_type": "code",
   "execution_count": 303,
   "metadata": {},
   "outputs": [],
   "source": [
    "# define model2 logreg KNN DT RF \n",
    "logreg = LogisticRegression()\n",
    "knn = KNeighborsClassifier()\n",
    "dt = DecisionTreeClassifier()\n",
    "rf = RandomForestClassifier()\n"
   ]
  },
  {
   "source": [
    "### Coba lihat score model logreg"
   ],
   "cell_type": "markdown",
   "metadata": {}
  },
  {
   "cell_type": "code",
   "execution_count": null,
   "metadata": {},
   "outputs": [],
   "source": []
  },
  {
   "cell_type": "code",
   "execution_count": 304,
   "metadata": {},
   "outputs": [],
   "source": [
    "# buat pipeline berisi transformer (dari yg di atas) lalu model (logreg dll)\n",
    "\n",
    "# Logisitic regression\n",
    "logreg_pipeline = Pipeline([\n",
    "    ('transformer', transformer),\n",
    "    ('clf', logreg)\n",
    "])\n",
    "\n",
    "# KNN\n",
    "knn_pipeline = Pipeline([\n",
    "    ('transformer', transformer),\n",
    "    ('clf', knn)\n",
    "])\n",
    "\n",
    "# DecisionTree\n",
    "dt_pipeline = Pipeline([\n",
    "    ('transformer', transformer),\n",
    "    ('clf', dt)\n",
    "])\n",
    "\n",
    "# RandomForest\n",
    "rf_pipeline = Pipeline([\n",
    "    ('transformer', transformer),\n",
    "    ('clf', rf)\n",
    "])"
   ]
  },
  {
   "source": [
    "## Cross Validation"
   ],
   "cell_type": "markdown",
   "metadata": {}
  },
  {
   "cell_type": "code",
   "execution_count": 305,
   "metadata": {},
   "outputs": [
    {
     "output_type": "stream",
     "name": "stdout",
     "text": [
      "CrossVal model: [0.62135922 0.75471698 0.77358491 0.73043478 0.74747475]\nCrossVal model mean: 0.7255141280353733\nCrossVal model std: 0.053885679207528986\n"
     ]
    }
   ],
   "source": [
    "\n",
    "# define skf \n",
    "skf = StratifiedKFold(n_splits=5)\n",
    "\n",
    "# cross val score (pipeline, X_train, y_train, cv=skf, scoring='f1')\n",
    "model_cv = cross_val_score(logreg_pipeline, X_train, y_train, cv=skf, scoring='f1')\n",
    "\n",
    "# lihat scorenya, mean nya dan std nya\n",
    "print('CrossVal model:', model_cv)\n",
    "print('CrossVal model mean:', model_cv.mean())\n",
    "print('CrossVal model std:', model_cv.std())\n"
   ]
  },
  {
   "source": [
    "### Lihat score semua model (flexible metrics)"
   ],
   "cell_type": "markdown",
   "metadata": {}
  },
  {
   "cell_type": "code",
   "execution_count": 306,
   "metadata": {},
   "outputs": [],
   "source": [
    "# cross validation\n",
    "def model_evaluation_cv(model):\n",
    "\n",
    "    # model.fit(X_train, y_train)\n",
    "\n",
    "    skf = StratifiedKFold(n_splits = 5)\n",
    "    model_cv = cross_val_score(model, X_train, y_train, cv=skf, scoring='f1')\n",
    "\n",
    "    return model_cv\n",
    "\n",
    "# print score dari cross validation\n",
    "def print_result(model_cv):\n",
    "    print('Model:', str(model))\n",
    "    print('CV score',model_cv)\n",
    "    print('CV score mean',model_cv.mean())\n",
    "    print('CV score std',model_cv.std())\n",
    "    print()"
   ]
  },
  {
   "cell_type": "code",
   "execution_count": 307,
   "metadata": {},
   "outputs": [
    {
     "output_type": "stream",
     "name": "stdout",
     "text": [
      "Model: Pipeline(steps=[('transformer',\n                 ColumnTransformer(remainder='passthrough',\n                                   transformers=[('imputer',\n                                                  SimpleImputer(strategy='median'),\n                                                  ['age']),\n                                                 ('one hot encoder',\n                                                  OneHotEncoder(drop='first'),\n                                                  ['sex', 'alone']),\n                                                 ('ordinal encoder',\n                                                  OrdinalEncoder(cols=['class'],\n                                                                 mapping=[{'col': 'class',\n                                                                           'mapping': {None: 0,\n                                                                                       'First': 1,\n                                                                                       'Second': 2,\n                                                                                       'Third': 3}}]),\n                                                  ['class']),\n                                                 ('binary encoder',\n                                                  Pipeline(steps=[('imputer',\n                                                                   SimpleImputer(strategy='most_frequent')),\n                                                                  ('binary '\n                                                                   'encoder',\n                                                                   BinaryEncoder())]),\n                                                  ['embark_town'])])),\n                ('clf', LogisticRegression())])\nCV score [0.62135922 0.75471698 0.77358491 0.73043478 0.74747475]\nCV score mean 0.7255141280353733\nCV score std 0.053885679207528986\n\n"
     ]
    }
   ],
   "source": [
    "# logistic regression\n",
    "model = logreg_pipeline\n",
    "model_cv = model_evaluation_cv(model)\n",
    "print_result(model_cv)"
   ]
  },
  {
   "cell_type": "code",
   "execution_count": 308,
   "metadata": {},
   "outputs": [
    {
     "output_type": "stream",
     "name": "stdout",
     "text": [
      "Model: Pipeline(steps=[('transformer',\n                 ColumnTransformer(remainder='passthrough',\n                                   transformers=[('imputer',\n                                                  SimpleImputer(strategy='median'),\n                                                  ['age']),\n                                                 ('one hot encoder',\n                                                  OneHotEncoder(drop='first'),\n                                                  ['sex', 'alone']),\n                                                 ('ordinal encoder',\n                                                  OrdinalEncoder(cols=['class'],\n                                                                 mapping=[{'col': 'class',\n                                                                           'mapping': {None: 0,\n                                                                                       'First': 1,\n                                                                                       'Second': 2,\n                                                                                       'Third': 3}}]),\n                                                  ['class']),\n                                                 ('binary encoder',\n                                                  Pipeline(steps=[('imputer',\n                                                                   SimpleImputer(strategy='most_frequent')),\n                                                                  ('binary '\n                                                                   'encoder',\n                                                                   BinaryEncoder())]),\n                                                  ['embark_town'])])),\n                ('clf', KNeighborsClassifier())])\nCV score [0.47524752 0.59574468 0.54901961 0.63063063 0.65454545]\nCV score mean 0.5810375797245524\nCV score std 0.06371163698540154\n\n"
     ]
    }
   ],
   "source": [
    "# KNN\n",
    "model = knn_pipeline\n",
    "model_cv = model_evaluation_cv(model)\n",
    "print_result(model_cv)"
   ]
  },
  {
   "cell_type": "code",
   "execution_count": 309,
   "metadata": {},
   "outputs": [
    {
     "output_type": "stream",
     "name": "stdout",
     "text": [
      "Model: Pipeline(steps=[('transformer',\n                 ColumnTransformer(remainder='passthrough',\n                                   transformers=[('imputer',\n                                                  SimpleImputer(strategy='median'),\n                                                  ['age']),\n                                                 ('one hot encoder',\n                                                  OneHotEncoder(drop='first'),\n                                                  ['sex', 'alone']),\n                                                 ('ordinal encoder',\n                                                  OrdinalEncoder(cols=['class'],\n                                                                 mapping=[{'col': 'class',\n                                                                           'mapping': {None: 0,\n                                                                                       'First': 1,\n                                                                                       'Second': 2,\n                                                                                       'Third': 3}}]),\n                                                  ['class']),\n                                                 ('binary encoder',\n                                                  Pipeline(steps=[('imputer',\n                                                                   SimpleImputer(strategy='most_frequent')),\n                                                                  ('binary '\n                                                                   'encoder',\n                                                                   BinaryEncoder())]),\n                                                  ['embark_town'])])),\n                ('clf', DecisionTreeClassifier())])\nCV score [0.64583333 0.75862069 0.7        0.71794872 0.71698113]\nCV score mean 0.7078767746025391\nCV score std 0.03652590988681059\n\n"
     ]
    }
   ],
   "source": [
    "# Decision Tree\n",
    "model = dt_pipeline\n",
    "model_cv = model_evaluation_cv(model)\n",
    "print_result(model_cv)"
   ]
  },
  {
   "cell_type": "code",
   "execution_count": 310,
   "metadata": {},
   "outputs": [
    {
     "output_type": "stream",
     "name": "stdout",
     "text": [
      "Model: Pipeline(steps=[('transformer',\n                 ColumnTransformer(remainder='passthrough',\n                                   transformers=[('imputer',\n                                                  SimpleImputer(strategy='median'),\n                                                  ['age']),\n                                                 ('one hot encoder',\n                                                  OneHotEncoder(drop='first'),\n                                                  ['sex', 'alone']),\n                                                 ('ordinal encoder',\n                                                  OrdinalEncoder(cols=['class'],\n                                                                 mapping=[{'col': 'class',\n                                                                           'mapping': {None: 0,\n                                                                                       'First': 1,\n                                                                                       'Second': 2,\n                                                                                       'Third': 3}}]),\n                                                  ['class']),\n                                                 ('binary encoder',\n                                                  Pipeline(steps=[('imputer',\n                                                                   SimpleImputer(strategy='most_frequent')),\n                                                                  ('binary '\n                                                                   'encoder',\n                                                                   BinaryEncoder())]),\n                                                  ['embark_town'])])),\n                ('clf', RandomForestClassifier())])\nCV score [0.66666667 0.8        0.67346939 0.74576271 0.75728155]\nCV score mean 0.7286360639368468\nCV score std 0.05116691482804819\n\n"
     ]
    }
   ],
   "source": [
    "# Random Forest\n",
    "model = rf_pipeline\n",
    "model_cv = model_evaluation_cv(model)\n",
    "print_result(model_cv)"
   ]
  },
  {
   "source": [
    "## Kesimpulan Cross Validation\n",
    "\n",
    "### berdasarkan score (mean tertinggi) dan stabilitas (std terendah), maka diambil 2 model terbaik:\n",
    "\n",
    "- Logistic Regression\n",
    "- Random Forest Classifier"
   ],
   "cell_type": "markdown",
   "metadata": {}
  },
  {
   "cell_type": "code",
   "execution_count": 311,
   "metadata": {},
   "outputs": [
    {
     "output_type": "stream",
     "name": "stdout",
     "text": [
      "              precision    recall  f1-score   support\n\n           0       0.82      0.83      0.82       110\n           1       0.72      0.71      0.72        69\n\n    accuracy                           0.78       179\n   macro avg       0.77      0.77      0.77       179\nweighted avg       0.78      0.78      0.78       179\n\n"
     ]
    }
   ],
   "source": [
    "# fit model_pipeline dengan X_train, y_train\n",
    "logreg_pipeline.fit(X_train, y_train)\n",
    "\n",
    "# predict dgn X_test\n",
    "y_pred_logreg = logreg_pipeline.predict(X_test)\n",
    "\n",
    "# lihat f1 score (classification report)\n",
    "print(classification_report(y_test, y_pred_logreg))"
   ]
  },
  {
   "cell_type": "code",
   "execution_count": null,
   "metadata": {},
   "outputs": [],
   "source": []
  },
  {
   "cell_type": "code",
   "execution_count": 312,
   "metadata": {},
   "outputs": [
    {
     "output_type": "stream",
     "name": "stdout",
     "text": [
      "              precision    recall  f1-score   support\n\n           0       0.82      0.90      0.86       110\n           1       0.81      0.68      0.74        69\n\n    accuracy                           0.82       179\n   macro avg       0.81      0.79      0.80       179\nweighted avg       0.82      0.82      0.81       179\n\n"
     ]
    }
   ],
   "source": [
    "# fit model_pipeline dengan X_train, y_train\n",
    "rf_pipeline.fit(X_train, y_train)\n",
    "\n",
    "# predict dgn X_test\n",
    "y_pred_rf = rf_pipeline.predict(X_test)\n",
    "\n",
    "# lihat f1 score (classification report)\n",
    "print(classification_report(y_test, y_pred_rf))"
   ]
  },
  {
   "cell_type": "code",
   "execution_count": null,
   "metadata": {},
   "outputs": [],
   "source": []
  },
  {
   "source": [
    "# 3. Hyperparameter Tuning \n",
    "\n",
    "## Randomize Search"
   ],
   "cell_type": "markdown",
   "metadata": {}
  },
  {
   "source": [
    "## A. Logistic Regression"
   ],
   "cell_type": "markdown",
   "metadata": {}
  },
  {
   "cell_type": "code",
   "execution_count": 313,
   "metadata": {},
   "outputs": [],
   "source": [
    "# Hyperparameter Space\n",
    "hyperparam_space = {\n",
    "    'clf__C':[1000, 500, 100, 10, 5, 1, 0.5, 0.1, 0.05, 0.01, 0.005, 0.001, 0.0005, 0.0001],\n",
    "    'clf__max_iter':[100,200,300,400,500,1000],\n",
    "    'clf__solver':['liblinear','newton-cg']\n",
    "}\n",
    "\n",
    "# SKfold\n",
    "skf = StratifiedKFold(n_splits=5)\n",
    "\n",
    "# Hyperparameter Tuning\n",
    "randomize_search = RandomizedSearchCV(\n",
    "    logreg_pipeline,\n",
    "    param_distributions= hyperparam_space,\n",
    "    cv= skf,\n",
    "    scoring= 'f1',\n",
    "    n_jobs= -1\n",
    ")"
   ]
  },
  {
   "cell_type": "code",
   "execution_count": 314,
   "metadata": {},
   "outputs": [
    {
     "output_type": "execute_result",
     "data": {
      "text/plain": [
       "RandomizedSearchCV(cv=StratifiedKFold(n_splits=5, random_state=None, shuffle=False),\n",
       "                   estimator=Pipeline(steps=[('transformer',\n",
       "                                              ColumnTransformer(remainder='passthrough',\n",
       "                                                                transformers=[('imputer',\n",
       "                                                                               SimpleImputer(strategy='median'),\n",
       "                                                                               ['age']),\n",
       "                                                                              ('one '\n",
       "                                                                               'hot '\n",
       "                                                                               'encoder',\n",
       "                                                                               OneHotEncoder(drop='first'),\n",
       "                                                                               ['sex',\n",
       "                                                                                'alone']),\n",
       "                                                                              ('ordinal '\n",
       "                                                                               'encoder',\n",
       "                                                                               OrdinalEncoder(cols=['class'],\n",
       "                                                                                              ma...\n",
       "                                                                               Pipeline(steps=[('imputer',\n",
       "                                                                                                SimpleImputer(strategy='most_frequent')),\n",
       "                                                                                               ('binary '\n",
       "                                                                                                'encoder',\n",
       "                                                                                                BinaryEncoder())]),\n",
       "                                                                               ['embark_town'])])),\n",
       "                                             ('clf', LogisticRegression())]),\n",
       "                   n_jobs=-1,\n",
       "                   param_distributions={'clf__C': [1000, 500, 100, 10, 5, 1,\n",
       "                                                   0.5, 0.1, 0.05, 0.01, 0.005,\n",
       "                                                   0.001, 0.0005, 0.0001],\n",
       "                                        'clf__max_iter': [100, 200, 300, 400,\n",
       "                                                          500, 1000],\n",
       "                                        'clf__solver': ['liblinear',\n",
       "                                                        'newton-cg']},\n",
       "                   scoring='f1')"
      ]
     },
     "metadata": {},
     "execution_count": 314
    }
   ],
   "source": [
    "# fitting hyperparam tuning (randomize search)\n",
    "randomize_search.fit(X_train, y_train)"
   ]
  },
  {
   "cell_type": "code",
   "execution_count": 315,
   "metadata": {},
   "outputs": [
    {
     "output_type": "stream",
     "name": "stdout",
     "text": [
      "best score 0.7226028766741196\nbest param {'clf__solver': 'liblinear', 'clf__max_iter': 400, 'clf__C': 1}\n"
     ]
    }
   ],
   "source": [
    "# lihat score dan parameter terbaik\n",
    "print('best score', randomize_search.best_score_)\n",
    "print('best param', randomize_search.best_params_)"
   ]
  },
  {
   "cell_type": "code",
   "execution_count": null,
   "metadata": {},
   "outputs": [],
   "source": []
  },
  {
   "source": [
    "### Comparison model: before and after hyperparameter tuning"
   ],
   "cell_type": "markdown",
   "metadata": {}
  },
  {
   "source": [
    "### Before tuning"
   ],
   "cell_type": "markdown",
   "metadata": {}
  },
  {
   "cell_type": "code",
   "execution_count": 316,
   "metadata": {},
   "outputs": [
    {
     "output_type": "stream",
     "name": "stdout",
     "text": [
      "              precision    recall  f1-score   support\n\n           0       0.82      0.83      0.82       110\n           1       0.72      0.71      0.72        69\n\n    accuracy                           0.78       179\n   macro avg       0.77      0.77      0.77       179\nweighted avg       0.78      0.78      0.78       179\n\n"
     ]
    }
   ],
   "source": [
    "model = logreg_pipeline\n",
    "model.fit(X_train, y_train)\n",
    "y_pred_1 = model.predict(X_test)\n",
    "print(classification_report(y_test, y_pred_1))"
   ]
  },
  {
   "cell_type": "code",
   "execution_count": null,
   "metadata": {},
   "outputs": [],
   "source": []
  },
  {
   "source": [
    "### After tuning"
   ],
   "cell_type": "markdown",
   "metadata": {}
  },
  {
   "cell_type": "code",
   "execution_count": 317,
   "metadata": {},
   "outputs": [
    {
     "output_type": "execute_result",
     "data": {
      "text/plain": [
       "Pipeline(steps=[('transformer',\n",
       "                 ColumnTransformer(remainder='passthrough',\n",
       "                                   transformers=[('imputer',\n",
       "                                                  SimpleImputer(strategy='median'),\n",
       "                                                  ['age']),\n",
       "                                                 ('one hot encoder',\n",
       "                                                  OneHotEncoder(drop='first'),\n",
       "                                                  ['sex', 'alone']),\n",
       "                                                 ('ordinal encoder',\n",
       "                                                  OrdinalEncoder(cols=['class'],\n",
       "                                                                 mapping=[{'col': 'class',\n",
       "                                                                           'mapping': {None: 0,\n",
       "                                                                                       'First': 1,\n",
       "                                                                                       'Second': 2,\n",
       "                                                                                       'Third': 3}}]),\n",
       "                                                  ['class']),\n",
       "                                                 ('binary encoder',\n",
       "                                                  Pipeline(steps=[('imputer',\n",
       "                                                                   SimpleImputer(strategy='most_frequent')),\n",
       "                                                                  ('binary '\n",
       "                                                                   'encoder',\n",
       "                                                                   BinaryEncoder())]),\n",
       "                                                  ['embark_town'])])),\n",
       "                ('clf',\n",
       "                 LogisticRegression(C=1, max_iter=400, solver='liblinear'))])"
      ]
     },
     "metadata": {},
     "execution_count": 317
    }
   ],
   "source": [
    "randomize_search.best_estimator_"
   ]
  },
  {
   "cell_type": "code",
   "execution_count": 318,
   "metadata": {},
   "outputs": [
    {
     "output_type": "stream",
     "name": "stdout",
     "text": [
      "              precision    recall  f1-score   support\n\n           0       0.81      0.82      0.81       110\n           1       0.71      0.70      0.70        69\n\n    accuracy                           0.77       179\n   macro avg       0.76      0.76      0.76       179\nweighted avg       0.77      0.77      0.77       179\n\n"
     ]
    }
   ],
   "source": [
    "model = randomize_search.best_estimator_\n",
    "model.fit(X_train, y_train)\n",
    "y_pred_2 = model.predict(X_test)\n",
    "print(classification_report(y_test, y_pred_2))"
   ]
  },
  {
   "cell_type": "code",
   "execution_count": null,
   "metadata": {},
   "outputs": [],
   "source": []
  },
  {
   "source": [
    "## B. Random Forest"
   ],
   "cell_type": "markdown",
   "metadata": {}
  },
  {
   "cell_type": "code",
   "execution_count": 319,
   "metadata": {},
   "outputs": [],
   "source": [
    "# Hyperparameter Space\n",
    "hyperparam_space = {\n",
    "    'clf__bootstrap': [True, False],\n",
    "    'clf__max_depth': [10, 20, 30, 40, 50, 60, 70, 80, 90, 100, None], #\n",
    "    'clf__max_features': ['auto', 'sqrt'],\n",
    "    'clf__min_samples_leaf': [1, 2, 4], #\n",
    "    'clf__min_samples_split': [2, 5, 10], #\n",
    "    'clf__n_estimators': [200, 400, 600, 800, 1000, 1200, 1400, 1600, 1800, 2000] #\n",
    " }\n",
    "\n",
    "# SKfold\n",
    "skf = StratifiedKFold(n_splits=5)\n",
    "\n",
    "# Hyperparameter Tuning\n",
    "randomize_search = RandomizedSearchCV(\n",
    "    rf_pipeline,\n",
    "    param_distributions= hyperparam_space,\n",
    "    cv= skf,\n",
    "    scoring= 'f1',\n",
    "    n_jobs= -1\n",
    ")"
   ]
  },
  {
   "cell_type": "code",
   "execution_count": 320,
   "metadata": {},
   "outputs": [
    {
     "output_type": "execute_result",
     "data": {
      "text/plain": [
       "RandomizedSearchCV(cv=StratifiedKFold(n_splits=5, random_state=None, shuffle=False),\n",
       "                   estimator=Pipeline(steps=[('transformer',\n",
       "                                              ColumnTransformer(remainder='passthrough',\n",
       "                                                                transformers=[('imputer',\n",
       "                                                                               SimpleImputer(strategy='median'),\n",
       "                                                                               ['age']),\n",
       "                                                                              ('one '\n",
       "                                                                               'hot '\n",
       "                                                                               'encoder',\n",
       "                                                                               OneHotEncoder(drop='first'),\n",
       "                                                                               ['sex',\n",
       "                                                                                'alone']),\n",
       "                                                                              ('ordinal '\n",
       "                                                                               'encoder',\n",
       "                                                                               OrdinalEncoder(cols=['class'],\n",
       "                                                                                              ma...\n",
       "                                                                               ['embark_town'])])),\n",
       "                                             ('clf',\n",
       "                                              RandomForestClassifier())]),\n",
       "                   n_jobs=-1,\n",
       "                   param_distributions={'clf__bootstrap': [True, False],\n",
       "                                        'clf__max_depth': [10, 20, 30, 40, 50,\n",
       "                                                           60, 70, 80, 90, 100,\n",
       "                                                           None],\n",
       "                                        'clf__max_features': ['auto', 'sqrt'],\n",
       "                                        'clf__min_samples_leaf': [1, 2, 4],\n",
       "                                        'clf__min_samples_split': [2, 5, 10],\n",
       "                                        'clf__n_estimators': [200, 400, 600,\n",
       "                                                              800, 1000, 1200,\n",
       "                                                              1400, 1600, 1800,\n",
       "                                                              2000]},\n",
       "                   scoring='f1')"
      ]
     },
     "metadata": {},
     "execution_count": 320
    }
   ],
   "source": [
    "# fitting hyperparam tuning (randomize search)\n",
    "randomize_search.fit(X_train, y_train)"
   ]
  },
  {
   "cell_type": "code",
   "execution_count": 321,
   "metadata": {},
   "outputs": [
    {
     "output_type": "stream",
     "name": "stdout",
     "text": [
      "best score 0.7467747215333972\nbest param {'clf__n_estimators': 800, 'clf__min_samples_split': 5, 'clf__min_samples_leaf': 1, 'clf__max_features': 'sqrt', 'clf__max_depth': 90, 'clf__bootstrap': True}\n"
     ]
    }
   ],
   "source": [
    "# lihat score dan parameter terbaik\n",
    "print('best score', randomize_search.best_score_)\n",
    "print('best param', randomize_search.best_params_)"
   ]
  },
  {
   "cell_type": "code",
   "execution_count": null,
   "metadata": {},
   "outputs": [],
   "source": []
  },
  {
   "source": [
    "### Comparison before vs after tuning"
   ],
   "cell_type": "markdown",
   "metadata": {}
  },
  {
   "source": [
    "### Before Tuning"
   ],
   "cell_type": "markdown",
   "metadata": {}
  },
  {
   "cell_type": "code",
   "execution_count": 322,
   "metadata": {},
   "outputs": [
    {
     "output_type": "stream",
     "name": "stdout",
     "text": [
      "              precision    recall  f1-score   support\n\n           0       0.81      0.89      0.85       110\n           1       0.79      0.67      0.72        69\n\n    accuracy                           0.80       179\n   macro avg       0.80      0.78      0.79       179\nweighted avg       0.80      0.80      0.80       179\n\n"
     ]
    }
   ],
   "source": [
    "model = rf_pipeline\n",
    "model.fit(X_train, y_train)\n",
    "y_pred_3 = model.predict(X_test)\n",
    "print(classification_report(y_test, y_pred_3))"
   ]
  },
  {
   "cell_type": "code",
   "execution_count": null,
   "metadata": {},
   "outputs": [],
   "source": []
  },
  {
   "source": [
    "### After Tuning"
   ],
   "cell_type": "markdown",
   "metadata": {}
  },
  {
   "cell_type": "code",
   "execution_count": 323,
   "metadata": {},
   "outputs": [
    {
     "output_type": "execute_result",
     "data": {
      "text/plain": [
       "Pipeline(steps=[('transformer',\n",
       "                 ColumnTransformer(remainder='passthrough',\n",
       "                                   transformers=[('imputer',\n",
       "                                                  SimpleImputer(strategy='median'),\n",
       "                                                  ['age']),\n",
       "                                                 ('one hot encoder',\n",
       "                                                  OneHotEncoder(drop='first'),\n",
       "                                                  ['sex', 'alone']),\n",
       "                                                 ('ordinal encoder',\n",
       "                                                  OrdinalEncoder(cols=['class'],\n",
       "                                                                 mapping=[{'col': 'class',\n",
       "                                                                           'mapping': {None: 0,\n",
       "                                                                                       'First': 1,\n",
       "                                                                                       'Second': 2,\n",
       "                                                                                       'Third': 3}}]),\n",
       "                                                  ['class']),\n",
       "                                                 ('binary encoder',\n",
       "                                                  Pipeline(steps=[('imputer',\n",
       "                                                                   SimpleImputer(strategy='most_frequent')),\n",
       "                                                                  ('binary '\n",
       "                                                                   'encoder',\n",
       "                                                                   BinaryEncoder())]),\n",
       "                                                  ['embark_town'])])),\n",
       "                ('clf',\n",
       "                 RandomForestClassifier(max_depth=90, max_features='sqrt',\n",
       "                                        min_samples_split=5,\n",
       "                                        n_estimators=800))])"
      ]
     },
     "metadata": {},
     "execution_count": 323
    }
   ],
   "source": [
    "randomize_search.best_estimator_"
   ]
  },
  {
   "cell_type": "code",
   "execution_count": 324,
   "metadata": {},
   "outputs": [
    {
     "output_type": "stream",
     "name": "stdout",
     "text": [
      "              precision    recall  f1-score   support\n\n           0       0.82      0.92      0.87       110\n           1       0.84      0.68      0.75        69\n\n    accuracy                           0.83       179\n   macro avg       0.83      0.80      0.81       179\nweighted avg       0.83      0.83      0.82       179\n\n"
     ]
    }
   ],
   "source": [
    "model = randomize_search.best_estimator_\n",
    "model.fit(X_train, y_train)\n",
    "y_pred_4 = model.predict(X_test)\n",
    "print(classification_report(y_test, y_pred_4))"
   ]
  },
  {
   "source": [
    "## Perbandingan F1 score "
   ],
   "cell_type": "markdown",
   "metadata": {}
  },
  {
   "cell_type": "code",
   "execution_count": 325,
   "metadata": {},
   "outputs": [],
   "source": [
    "f1_1 = f1_score(y_test, y_pred_1)\n",
    "f1_2 = f1_score(y_test, y_pred_2)\n",
    "f1_3 = f1_score(y_test, y_pred_3)\n",
    "f1_4 = f1_score(y_test, y_pred_4)"
   ]
  },
  {
   "cell_type": "code",
   "execution_count": 327,
   "metadata": {},
   "outputs": [
    {
     "output_type": "execute_result",
     "data": {
      "text/plain": [
       "                     method     score\n",
       "0                    LogReg  0.715328\n",
       "1              RandomForest  0.700730\n",
       "2        Logreg with Tuning  0.724409\n",
       "3  RandomForest with Tuning  0.752000"
      ],
      "text/html": "<div>\n<style scoped>\n    .dataframe tbody tr th:only-of-type {\n        vertical-align: middle;\n    }\n\n    .dataframe tbody tr th {\n        vertical-align: top;\n    }\n\n    .dataframe thead th {\n        text-align: right;\n    }\n</style>\n<table border=\"1\" class=\"dataframe\">\n  <thead>\n    <tr style=\"text-align: right;\">\n      <th></th>\n      <th>method</th>\n      <th>score</th>\n    </tr>\n  </thead>\n  <tbody>\n    <tr>\n      <th>0</th>\n      <td>LogReg</td>\n      <td>0.715328</td>\n    </tr>\n    <tr>\n      <th>1</th>\n      <td>RandomForest</td>\n      <td>0.700730</td>\n    </tr>\n    <tr>\n      <th>2</th>\n      <td>Logreg with Tuning</td>\n      <td>0.724409</td>\n    </tr>\n    <tr>\n      <th>3</th>\n      <td>RandomForest with Tuning</td>\n      <td>0.752000</td>\n    </tr>\n  </tbody>\n</table>\n</div>"
     },
     "metadata": {},
     "execution_count": 327
    }
   ],
   "source": [
    "score_list = [f1_1, f1_2, f1_3, f1_4] \n",
    "model_names = ['LogReg','RandomForest', 'Logreg with Tuning', 'RandomForest with Tuning']\n",
    "df_summary = pd.DataFrame({\n",
    "    'method':model_names,\n",
    "    'score':score_list\n",
    "})\n",
    "df_summary"
   ]
  },
  {
   "source": [
    "# Kesimpulan\n",
    "\n",
    "dari 2 model yang digunakan yaitu Logistic Regresion dan Random Forest, dan setelah dilakukan hyperparameter tuning, model terbaik adalah:\n",
    "\n",
    "Random Forest dengan hyperparameter tuning dengan F1 score 0.75"
   ],
   "cell_type": "markdown",
   "metadata": {}
  },
  {
   "cell_type": "code",
   "execution_count": null,
   "metadata": {},
   "outputs": [],
   "source": []
  },
  {
   "cell_type": "code",
   "execution_count": null,
   "metadata": {},
   "outputs": [],
   "source": []
  },
  {
   "cell_type": "code",
   "execution_count": null,
   "metadata": {},
   "outputs": [],
   "source": []
  },
  {
   "cell_type": "code",
   "execution_count": null,
   "metadata": {},
   "outputs": [],
   "source": []
  },
  {
   "cell_type": "code",
   "execution_count": null,
   "metadata": {},
   "outputs": [],
   "source": []
  },
  {
   "cell_type": "code",
   "execution_count": null,
   "metadata": {},
   "outputs": [],
   "source": []
  },
  {
   "cell_type": "code",
   "execution_count": null,
   "metadata": {},
   "outputs": [],
   "source": []
  },
  {
   "cell_type": "code",
   "execution_count": null,
   "metadata": {},
   "outputs": [],
   "source": []
  },
  {
   "cell_type": "code",
   "execution_count": null,
   "metadata": {},
   "outputs": [],
   "source": []
  },
  {
   "cell_type": "code",
   "execution_count": null,
   "metadata": {},
   "outputs": [],
   "source": []
  },
  {
   "cell_type": "code",
   "execution_count": null,
   "metadata": {},
   "outputs": [],
   "source": []
  }
 ]
}