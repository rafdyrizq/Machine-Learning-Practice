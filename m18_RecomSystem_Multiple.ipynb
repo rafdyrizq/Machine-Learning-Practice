{
 "metadata": {
  "language_info": {
   "codemirror_mode": {
    "name": "ipython",
    "version": 3
   },
   "file_extension": ".py",
   "mimetype": "text/x-python",
   "name": "python",
   "nbconvert_exporter": "python",
   "pygments_lexer": "ipython3",
   "version": "3.7.6-final"
  },
  "orig_nbformat": 2,
  "kernelspec": {
   "name": "python3",
   "display_name": "Python 3",
   "language": "python"
  }
 },
 "nbformat": 4,
 "nbformat_minor": 2,
 "cells": [
  {
   "source": [
    "# CONTENT BASED FILTERING\n",
    "## MULTIPLE USERS"
   ],
   "cell_type": "markdown",
   "metadata": {}
  },
  {
   "cell_type": "code",
   "execution_count": 1,
   "metadata": {},
   "outputs": [],
   "source": [
    "# !pip install scikit-surprise\n"
   ]
  },
  {
   "cell_type": "code",
   "execution_count": 10,
   "metadata": {},
   "outputs": [],
   "source": [
    "import pandas as pd \n",
    "import numpy as np \n",
    "\n",
    "from surprise import SVD\n"
   ]
  },
  {
   "cell_type": "code",
   "execution_count": null,
   "metadata": {},
   "outputs": [],
   "source": []
  },
  {
   "cell_type": "code",
   "execution_count": 11,
   "metadata": {},
   "outputs": [
    {
     "output_type": "execute_result",
     "data": {
      "text/plain": [
       "          movie  Action  Sci-Fi  Adventure  Comedy  Drama\n",
       "0  Terminator 2       1       1          0       0      0\n",
       "1  Interstellar       0       1          1       0      1\n",
       "2     Ant Man 2       1       1          1       1      0\n",
       "3      3 Idiots       0       0          0       1      1"
      ],
      "text/html": "<div>\n<style scoped>\n    .dataframe tbody tr th:only-of-type {\n        vertical-align: middle;\n    }\n\n    .dataframe tbody tr th {\n        vertical-align: top;\n    }\n\n    .dataframe thead th {\n        text-align: right;\n    }\n</style>\n<table border=\"1\" class=\"dataframe\">\n  <thead>\n    <tr style=\"text-align: right;\">\n      <th></th>\n      <th>movie</th>\n      <th>Action</th>\n      <th>Sci-Fi</th>\n      <th>Adventure</th>\n      <th>Comedy</th>\n      <th>Drama</th>\n    </tr>\n  </thead>\n  <tbody>\n    <tr>\n      <th>0</th>\n      <td>Terminator 2</td>\n      <td>1</td>\n      <td>1</td>\n      <td>0</td>\n      <td>0</td>\n      <td>0</td>\n    </tr>\n    <tr>\n      <th>1</th>\n      <td>Interstellar</td>\n      <td>0</td>\n      <td>1</td>\n      <td>1</td>\n      <td>0</td>\n      <td>1</td>\n    </tr>\n    <tr>\n      <th>2</th>\n      <td>Ant Man 2</td>\n      <td>1</td>\n      <td>1</td>\n      <td>1</td>\n      <td>1</td>\n      <td>0</td>\n    </tr>\n    <tr>\n      <th>3</th>\n      <td>3 Idiots</td>\n      <td>0</td>\n      <td>0</td>\n      <td>0</td>\n      <td>1</td>\n      <td>1</td>\n    </tr>\n  </tbody>\n</table>\n</div>"
     },
     "metadata": {},
     "execution_count": 11
    }
   ],
   "source": [
    "movies = [\"Terminator 2\",\"Interstellar\",\"Ant Man 2\",\"3 Idiots\"]\n",
    "action = [1,0,1,0]\n",
    "scifi = [1,1,1,0]\n",
    "adventure = [0,1,1,0]\n",
    "comedy = [0,0,1,1]\n",
    "drama = [0,1,0,1]\n",
    "\n",
    "df_item_features = pd.DataFrame({\n",
    "    'movie':movies,\n",
    "    'Action':action,\n",
    "    'Sci-Fi':scifi,\n",
    "    'Adventure':adventure,\n",
    "    'Comedy':comedy,\n",
    "    'Drama':drama\n",
    "})\n",
    "\n",
    "df_item_features\n"
   ]
  },
  {
   "cell_type": "code",
   "execution_count": 12,
   "metadata": {},
   "outputs": [
    {
     "output_type": "execute_result",
     "data": {
      "text/plain": [
       "     user  Terminator 2  Interstellar  Ant Man 2  3 Idiots\n",
       "0  user 1             7             9          8         9\n",
       "1  user 2             8             0          6         5\n",
       "2  user 3             9             0          0        10\n",
       "3  user 4             0             7          0         9"
      ],
      "text/html": "<div>\n<style scoped>\n    .dataframe tbody tr th:only-of-type {\n        vertical-align: middle;\n    }\n\n    .dataframe tbody tr th {\n        vertical-align: top;\n    }\n\n    .dataframe thead th {\n        text-align: right;\n    }\n</style>\n<table border=\"1\" class=\"dataframe\">\n  <thead>\n    <tr style=\"text-align: right;\">\n      <th></th>\n      <th>user</th>\n      <th>Terminator 2</th>\n      <th>Interstellar</th>\n      <th>Ant Man 2</th>\n      <th>3 Idiots</th>\n    </tr>\n  </thead>\n  <tbody>\n    <tr>\n      <th>0</th>\n      <td>user 1</td>\n      <td>7</td>\n      <td>9</td>\n      <td>8</td>\n      <td>9</td>\n    </tr>\n    <tr>\n      <th>1</th>\n      <td>user 2</td>\n      <td>8</td>\n      <td>0</td>\n      <td>6</td>\n      <td>5</td>\n    </tr>\n    <tr>\n      <th>2</th>\n      <td>user 3</td>\n      <td>9</td>\n      <td>0</td>\n      <td>0</td>\n      <td>10</td>\n    </tr>\n    <tr>\n      <th>3</th>\n      <td>user 4</td>\n      <td>0</td>\n      <td>7</td>\n      <td>0</td>\n      <td>9</td>\n    </tr>\n  </tbody>\n</table>\n</div>"
     },
     "metadata": {},
     "execution_count": 12
    }
   ],
   "source": [
    "user = ['user 1','user 2','user 3','user 4']\n",
    "terminator_2 = [7,8,9,0]\n",
    "interstellar = [9,0,0,7]\n",
    "ant_man_2 = [8,6,0,0]\n",
    "three_idiots = [9,5,10,9]\n",
    "\n",
    "df_user_items = pd.DataFrame({\n",
    "    'user':user,\n",
    "    'Terminator 2':terminator_2,\n",
    "    'Interstellar':interstellar,\n",
    "    'Ant Man 2':ant_man_2,\n",
    "    '3 Idiots':three_idiots\n",
    "})\n",
    "\n",
    "df_user_items"
   ]
  },
  {
   "cell_type": "code",
   "execution_count": 13,
   "metadata": {},
   "outputs": [],
   "source": [
    "arr_user_items = np.array(df_user_items.drop('user', axis = 1))\n",
    "arr_item_features = np.array(df_item_features.drop('movie', axis = 1))\n",
    "\n",
    "n_user = arr_user_items.shape[0]\n",
    "n_item = arr_user_items.shape[1]\n",
    "n_feature = arr_item_features.shape[1]\n",
    "\n",
    "arr_user_items_score = np.empty((n_user,n_item))\n",
    "arr_user_feature = np.empty((n_user,n_feature))\n",
    "\n",
    "for i in range(0,n_user):\n",
    "  # print(arr_user_items[i,:])\n",
    "  user_feature = np.matmul(arr_user_items[i,:],arr_item_features)\n",
    "  # print(user_feature)\n",
    "  user_feature = user_feature/user_feature.sum()\n",
    "  arr_user_feature[i,:] = user_feature\n",
    "\n"
   ]
  },
  {
   "cell_type": "code",
   "execution_count": 14,
   "metadata": {},
   "outputs": [
    {
     "output_type": "execute_result",
     "data": {
      "text/plain": [
       "          Action    Sci-Fi  Adventure    Comedy     Drama\n",
       "user 1  0.164835  0.263736   0.186813  0.186813  0.197802\n",
       "user 2  0.280000  0.280000   0.120000  0.220000  0.100000\n",
       "user 3  0.236842  0.236842   0.000000  0.263158  0.263158\n",
       "user 4  0.000000  0.179487   0.179487  0.230769  0.410256"
      ],
      "text/html": "<div>\n<style scoped>\n    .dataframe tbody tr th:only-of-type {\n        vertical-align: middle;\n    }\n\n    .dataframe tbody tr th {\n        vertical-align: top;\n    }\n\n    .dataframe thead th {\n        text-align: right;\n    }\n</style>\n<table border=\"1\" class=\"dataframe\">\n  <thead>\n    <tr style=\"text-align: right;\">\n      <th></th>\n      <th>Action</th>\n      <th>Sci-Fi</th>\n      <th>Adventure</th>\n      <th>Comedy</th>\n      <th>Drama</th>\n    </tr>\n  </thead>\n  <tbody>\n    <tr>\n      <th>user 1</th>\n      <td>0.164835</td>\n      <td>0.263736</td>\n      <td>0.186813</td>\n      <td>0.186813</td>\n      <td>0.197802</td>\n    </tr>\n    <tr>\n      <th>user 2</th>\n      <td>0.280000</td>\n      <td>0.280000</td>\n      <td>0.120000</td>\n      <td>0.220000</td>\n      <td>0.100000</td>\n    </tr>\n    <tr>\n      <th>user 3</th>\n      <td>0.236842</td>\n      <td>0.236842</td>\n      <td>0.000000</td>\n      <td>0.263158</td>\n      <td>0.263158</td>\n    </tr>\n    <tr>\n      <th>user 4</th>\n      <td>0.000000</td>\n      <td>0.179487</td>\n      <td>0.179487</td>\n      <td>0.230769</td>\n      <td>0.410256</td>\n    </tr>\n  </tbody>\n</table>\n</div>"
     },
     "metadata": {},
     "execution_count": 14
    }
   ],
   "source": [
    "df_user_feature = pd.DataFrame(arr_user_feature)\n",
    "df_user_feature.columns = df_item_features.columns[1:]\n",
    "df_user_feature.index = user\n",
    "df_user_feature"
   ]
  },
  {
   "cell_type": "code",
   "execution_count": 15,
   "metadata": {},
   "outputs": [
    {
     "output_type": "execute_result",
     "data": {
      "text/plain": [
       "        Terminator 2  Interstellar  Ant Man 2  3 Idiots\n",
       "user 1      0.000000           0.0   0.000000       0.0\n",
       "user 2      0.000000           0.5   0.000000       0.0\n",
       "user 3      0.000000           0.5   0.736842       0.0\n",
       "user 4      0.179487           0.0   0.589744       0.0"
      ],
      "text/html": "<div>\n<style scoped>\n    .dataframe tbody tr th:only-of-type {\n        vertical-align: middle;\n    }\n\n    .dataframe tbody tr th {\n        vertical-align: top;\n    }\n\n    .dataframe thead th {\n        text-align: right;\n    }\n</style>\n<table border=\"1\" class=\"dataframe\">\n  <thead>\n    <tr style=\"text-align: right;\">\n      <th></th>\n      <th>Terminator 2</th>\n      <th>Interstellar</th>\n      <th>Ant Man 2</th>\n      <th>3 Idiots</th>\n    </tr>\n  </thead>\n  <tbody>\n    <tr>\n      <th>user 1</th>\n      <td>0.000000</td>\n      <td>0.0</td>\n      <td>0.000000</td>\n      <td>0.0</td>\n    </tr>\n    <tr>\n      <th>user 2</th>\n      <td>0.000000</td>\n      <td>0.5</td>\n      <td>0.000000</td>\n      <td>0.0</td>\n    </tr>\n    <tr>\n      <th>user 3</th>\n      <td>0.000000</td>\n      <td>0.5</td>\n      <td>0.736842</td>\n      <td>0.0</td>\n    </tr>\n    <tr>\n      <th>user 4</th>\n      <td>0.179487</td>\n      <td>0.0</td>\n      <td>0.589744</td>\n      <td>0.0</td>\n    </tr>\n  </tbody>\n</table>\n</div>"
     },
     "metadata": {},
     "execution_count": 15
    }
   ],
   "source": [
    "for i in range(0, n_user):\n",
    "  user_item_score = np.matmul(arr_item_features,arr_user_feature[i,:])\n",
    "  arr_user_items_score[i,:] = user_item_score\n",
    "\n",
    "arr_user_items_score_unwatched = np.where(arr_user_items == 0,arr_user_items_score,0)\n",
    "\n",
    "df_user_items_score_unwatched = pd.DataFrame(arr_user_items_score_unwatched)\n",
    "df_user_items_score_unwatched.columns = movies\n",
    "df_user_items_score_unwatched.index = user\n",
    "df_user_items_score_unwatched\n"
   ]
  },
  {
   "cell_type": "code",
   "execution_count": 16,
   "metadata": {},
   "outputs": [
    {
     "output_type": "execute_result",
     "data": {
      "text/plain": [
       "        movie  Action  Sci-Fi  Adventure  Comedy  Drama\n",
       "0     Titanic       1       1          0       0      0\n",
       "1     Martian       0       1          1       0      1\n",
       "2  GOTG Vol 2       1       1          1       1      0"
      ],
      "text/html": "<div>\n<style scoped>\n    .dataframe tbody tr th:only-of-type {\n        vertical-align: middle;\n    }\n\n    .dataframe tbody tr th {\n        vertical-align: top;\n    }\n\n    .dataframe thead th {\n        text-align: right;\n    }\n</style>\n<table border=\"1\" class=\"dataframe\">\n  <thead>\n    <tr style=\"text-align: right;\">\n      <th></th>\n      <th>movie</th>\n      <th>Action</th>\n      <th>Sci-Fi</th>\n      <th>Adventure</th>\n      <th>Comedy</th>\n      <th>Drama</th>\n    </tr>\n  </thead>\n  <tbody>\n    <tr>\n      <th>0</th>\n      <td>Titanic</td>\n      <td>1</td>\n      <td>1</td>\n      <td>0</td>\n      <td>0</td>\n      <td>0</td>\n    </tr>\n    <tr>\n      <th>1</th>\n      <td>Martian</td>\n      <td>0</td>\n      <td>1</td>\n      <td>1</td>\n      <td>0</td>\n      <td>1</td>\n    </tr>\n    <tr>\n      <th>2</th>\n      <td>GOTG Vol 2</td>\n      <td>1</td>\n      <td>1</td>\n      <td>1</td>\n      <td>1</td>\n      <td>0</td>\n    </tr>\n  </tbody>\n</table>\n</div>"
     },
     "metadata": {},
     "execution_count": 16
    }
   ],
   "source": [
    "movies = [\"Titanic\",\"Martian\",\"GOTG Vol 2\"]\n",
    "action = [1,0,1]\n",
    "scifi = [1,1,1]\n",
    "adventure = [0,1,1]\n",
    "comedy = [0,0,1]\n",
    "drama = [0,1,0]\n",
    "\n",
    "df_item_features_new = pd.DataFrame({\n",
    "    'movie':movies,\n",
    "    'Action':action,\n",
    "    'Sci-Fi':scifi,\n",
    "    'Adventure':adventure,\n",
    "    'Comedy':comedy,\n",
    "    'Drama':drama\n",
    "})\n",
    "\n",
    "df_item_features_new\n"
   ]
  },
  {
   "cell_type": "code",
   "execution_count": 17,
   "metadata": {},
   "outputs": [
    {
     "output_type": "execute_result",
     "data": {
      "text/plain": [
       "movie    Titanic   Martian  GOTG Vol 2\n",
       "user 1  0.428571  0.648352    0.802198\n",
       "user 2  0.560000  0.500000    0.900000\n",
       "user 3  0.473684  0.500000    0.736842\n",
       "user 4  0.179487  0.769231    0.589744"
      ],
      "text/html": "<div>\n<style scoped>\n    .dataframe tbody tr th:only-of-type {\n        vertical-align: middle;\n    }\n\n    .dataframe tbody tr th {\n        vertical-align: top;\n    }\n\n    .dataframe thead th {\n        text-align: right;\n    }\n</style>\n<table border=\"1\" class=\"dataframe\">\n  <thead>\n    <tr style=\"text-align: right;\">\n      <th>movie</th>\n      <th>Titanic</th>\n      <th>Martian</th>\n      <th>GOTG Vol 2</th>\n    </tr>\n  </thead>\n  <tbody>\n    <tr>\n      <th>user 1</th>\n      <td>0.428571</td>\n      <td>0.648352</td>\n      <td>0.802198</td>\n    </tr>\n    <tr>\n      <th>user 2</th>\n      <td>0.560000</td>\n      <td>0.500000</td>\n      <td>0.900000</td>\n    </tr>\n    <tr>\n      <th>user 3</th>\n      <td>0.473684</td>\n      <td>0.500000</td>\n      <td>0.736842</td>\n    </tr>\n    <tr>\n      <th>user 4</th>\n      <td>0.179487</td>\n      <td>0.769231</td>\n      <td>0.589744</td>\n    </tr>\n  </tbody>\n</table>\n</div>"
     },
     "metadata": {},
     "execution_count": 17
    }
   ],
   "source": [
    "arr_item_features_new = np.array(df_item_features_new.drop('movie', axis = 1))\n",
    "\n",
    "n_item_new = df_item_features_new.shape[0]\n",
    "\n",
    "arr_user_items_score_new = np.empty((n_user,n_item_new))\n",
    "\n",
    "for i in range(0, n_user):\n",
    "  user_item_score = np.matmul(arr_item_features_new,arr_user_feature[i,:])\n",
    "  arr_user_items_score_new[i,:] = user_item_score\n",
    "\n",
    "df_user_items_score_new = pd.DataFrame(arr_user_items_score_new)\n",
    "df_user_items_score_new.index = user\n",
    "df_user_items_score_new.columns = df_item_features_new['movie']\n",
    "df_user_items_score_new # score rekomendasi\n"
   ]
  },
  {
   "source": [
    "## Urutan Rekomendasi\n",
    "- user 1: GOTG\n",
    "- user 2: GOTG\n",
    "- user 3: GOTG\n",
    "- user 4: Martian"
   ],
   "cell_type": "markdown",
   "metadata": {}
  },
  {
   "cell_type": "code",
   "execution_count": null,
   "metadata": {},
   "outputs": [],
   "source": []
  },
  {
   "cell_type": "code",
   "execution_count": null,
   "metadata": {},
   "outputs": [],
   "source": []
  },
  {
   "cell_type": "code",
   "execution_count": null,
   "metadata": {},
   "outputs": [],
   "source": []
  }
 ]
}