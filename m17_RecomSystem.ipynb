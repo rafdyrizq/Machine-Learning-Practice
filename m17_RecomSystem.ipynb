{
 "metadata": {
  "language_info": {
   "codemirror_mode": {
    "name": "ipython",
    "version": 3
   },
   "file_extension": ".py",
   "mimetype": "text/x-python",
   "name": "python",
   "nbconvert_exporter": "python",
   "pygments_lexer": "ipython3",
   "version": "3.7.6-final"
  },
  "orig_nbformat": 2,
  "kernelspec": {
   "name": "python3",
   "display_name": "Python 3",
   "language": "python"
  }
 },
 "nbformat": 4,
 "nbformat_minor": 2,
 "cells": [
  {
   "source": [
    "# RECOMMENDATION SYSTEM"
   ],
   "cell_type": "markdown",
   "metadata": {}
  },
  {
   "cell_type": "code",
   "execution_count": 1,
   "metadata": {},
   "outputs": [],
   "source": [
    "import pandas as pd \n",
    "import numpy as np "
   ]
  },
  {
   "source": [
    "GENRE:\n",
    "\n",
    "Comedy, Action, Scifi, Romance"
   ],
   "cell_type": "markdown",
   "metadata": {}
  },
  {
   "source": [
    "## Cosine Similarity"
   ],
   "cell_type": "markdown",
   "metadata": {}
  },
  {
   "cell_type": "code",
   "execution_count": 2,
   "metadata": {},
   "outputs": [
    {
     "output_type": "stream",
     "name": "stdout",
     "text": [
      "0.8660254037844387\n"
     ]
    }
   ],
   "source": [
    "# AntMan  vs GoTG \n",
    "cosine = (1*1 + 1*1 + 1*1 + 1*0)/(np.sqrt(4)*np.sqrt(3))\n",
    "print(cosine)"
   ]
  },
  {
   "cell_type": "code",
   "execution_count": 3,
   "metadata": {},
   "outputs": [
    {
     "output_type": "stream",
     "name": "stdout",
     "text": [
      "0.7071067811865475\n"
     ]
    }
   ],
   "source": [
    "# Antman vs Terminator\n",
    "cosine = (1*0 + 1*1 + 1*1 + 1*0)/(np.sqrt(4)*np.sqrt(2))\n",
    "print(cosine)"
   ]
  },
  {
   "cell_type": "code",
   "execution_count": 4,
   "metadata": {},
   "outputs": [
    {
     "output_type": "stream",
     "name": "stdout",
     "text": [
      "0.5\n"
     ]
    }
   ],
   "source": [
    "# Antman vs 3 Idiots\n",
    "cosine = (1*1 + 1*0 + 1*0 + 1*0)/(np.sqrt(4)*np.sqrt(1))\n",
    "print(cosine)"
   ]
  },
  {
   "source": [
    "## Kesimpulan\n",
    "\n",
    "kalau kita udah nonton Antman, maka kita akan direkomendasikan untuk nonton GoTG, karena nilai Cosine Similarity paling besar"
   ],
   "cell_type": "markdown",
   "metadata": {}
  },
  {
   "cell_type": "code",
   "execution_count": null,
   "metadata": {},
   "outputs": [],
   "source": []
  },
  {
   "source": [
    "## Genre dikasih degree"
   ],
   "cell_type": "markdown",
   "metadata": {}
  },
  {
   "cell_type": "code",
   "execution_count": 5,
   "metadata": {},
   "outputs": [],
   "source": [
    "# AntMan  vs GoTG \n",
    "# cosine = (4*3 + 5*5 + 5*4 + 4*0)/(np.sqrt(4**)*np.sqrt(3))\n",
    "# print(cosine)"
   ]
  },
  {
   "cell_type": "code",
   "execution_count": null,
   "metadata": {},
   "outputs": [],
   "source": []
  },
  {
   "source": [
    "# Anime.csv"
   ],
   "cell_type": "markdown",
   "metadata": {}
  },
  {
   "cell_type": "code",
   "execution_count": 6,
   "metadata": {},
   "outputs": [
    {
     "output_type": "execute_result",
     "data": {
      "text/plain": [
       "(12294, 7)"
      ]
     },
     "metadata": {},
     "execution_count": 6
    }
   ],
   "source": [
    "df_anime = pd.read_csv('anime.csv')\n",
    "df_anime.shape\n"
   ]
  },
  {
   "cell_type": "code",
   "execution_count": 7,
   "metadata": {},
   "outputs": [
    {
     "output_type": "execute_result",
     "data": {
      "text/plain": [
       "   anime_id                              name  \\\n",
       "0     32281                    Kimi no Na wa.   \n",
       "1      5114  Fullmetal Alchemist: Brotherhood   \n",
       "2     28977                          Gintama°   \n",
       "3      9253                       Steins;Gate   \n",
       "4      9969                     Gintama&#039;   \n",
       "\n",
       "                                               genre   type episodes  rating  \\\n",
       "0               Drama, Romance, School, Supernatural  Movie        1    9.37   \n",
       "1  Action, Adventure, Drama, Fantasy, Magic, Mili...     TV       64    9.26   \n",
       "2  Action, Comedy, Historical, Parody, Samurai, S...     TV       51    9.25   \n",
       "3                                   Sci-Fi, Thriller     TV       24    9.17   \n",
       "4  Action, Comedy, Historical, Parody, Samurai, S...     TV       51    9.16   \n",
       "\n",
       "   members  \n",
       "0   200630  \n",
       "1   793665  \n",
       "2   114262  \n",
       "3   673572  \n",
       "4   151266  "
      ],
      "text/html": "<div>\n<style scoped>\n    .dataframe tbody tr th:only-of-type {\n        vertical-align: middle;\n    }\n\n    .dataframe tbody tr th {\n        vertical-align: top;\n    }\n\n    .dataframe thead th {\n        text-align: right;\n    }\n</style>\n<table border=\"1\" class=\"dataframe\">\n  <thead>\n    <tr style=\"text-align: right;\">\n      <th></th>\n      <th>anime_id</th>\n      <th>name</th>\n      <th>genre</th>\n      <th>type</th>\n      <th>episodes</th>\n      <th>rating</th>\n      <th>members</th>\n    </tr>\n  </thead>\n  <tbody>\n    <tr>\n      <th>0</th>\n      <td>32281</td>\n      <td>Kimi no Na wa.</td>\n      <td>Drama, Romance, School, Supernatural</td>\n      <td>Movie</td>\n      <td>1</td>\n      <td>9.37</td>\n      <td>200630</td>\n    </tr>\n    <tr>\n      <th>1</th>\n      <td>5114</td>\n      <td>Fullmetal Alchemist: Brotherhood</td>\n      <td>Action, Adventure, Drama, Fantasy, Magic, Mili...</td>\n      <td>TV</td>\n      <td>64</td>\n      <td>9.26</td>\n      <td>793665</td>\n    </tr>\n    <tr>\n      <th>2</th>\n      <td>28977</td>\n      <td>Gintama°</td>\n      <td>Action, Comedy, Historical, Parody, Samurai, S...</td>\n      <td>TV</td>\n      <td>51</td>\n      <td>9.25</td>\n      <td>114262</td>\n    </tr>\n    <tr>\n      <th>3</th>\n      <td>9253</td>\n      <td>Steins;Gate</td>\n      <td>Sci-Fi, Thriller</td>\n      <td>TV</td>\n      <td>24</td>\n      <td>9.17</td>\n      <td>673572</td>\n    </tr>\n    <tr>\n      <th>4</th>\n      <td>9969</td>\n      <td>Gintama&amp;#039;</td>\n      <td>Action, Comedy, Historical, Parody, Samurai, S...</td>\n      <td>TV</td>\n      <td>51</td>\n      <td>9.16</td>\n      <td>151266</td>\n    </tr>\n  </tbody>\n</table>\n</div>"
     },
     "metadata": {},
     "execution_count": 7
    }
   ],
   "source": [
    "df_anime = df_anime.dropna()\n",
    "df_anime.head()"
   ]
  },
  {
   "cell_type": "code",
   "execution_count": 8,
   "metadata": {},
   "outputs": [
    {
     "output_type": "execute_result",
     "data": {
      "text/plain": [
       "TV         3668\n",
       "OVA        3284\n",
       "Movie      2259\n",
       "Special    1670\n",
       "ONA         648\n",
       "Music       488\n",
       "Name: type, dtype: int64"
      ]
     },
     "metadata": {},
     "execution_count": 8
    }
   ],
   "source": [
    "df_anime['type'].value_counts()"
   ]
  },
  {
   "cell_type": "code",
   "execution_count": 9,
   "metadata": {},
   "outputs": [
    {
     "output_type": "execute_result",
     "data": {
      "text/plain": [
       "Hentai                                            816\n",
       "Comedy                                            521\n",
       "Music                                             297\n",
       "Kids                                              197\n",
       "Comedy, Slice of Life                             174\n",
       "                                                 ... \n",
       "Action, Psychological, Shounen, Supernatural        1\n",
       "Drama, Romance, Sci-Fi, Seinen, Space               1\n",
       "Music, Sci-Fi, Space                                1\n",
       "Drama, Historical, Romance, Sci-Fi, Shounen Ai      1\n",
       "Adventure, Comedy, Kids, Space                      1\n",
       "Name: genre, Length: 3229, dtype: int64"
      ]
     },
     "metadata": {},
     "execution_count": 9
    }
   ],
   "source": [
    "df_anime['genre'].value_counts()"
   ]
  },
  {
   "source": [
    "## Create Recommendation System"
   ],
   "cell_type": "markdown",
   "metadata": {}
  },
  {
   "cell_type": "code",
   "execution_count": 10,
   "metadata": {},
   "outputs": [],
   "source": [
    "from sklearn.feature_extraction.text import CountVectorizer\n",
    "from sklearn.metrics.pairwise import cosine_similarity"
   ]
  },
  {
   "cell_type": "code",
   "execution_count": 11,
   "metadata": {},
   "outputs": [
    {
     "output_type": "stream",
     "name": "stdout",
     "text": [
      "43\n['action', 'adventure', 'cars', 'comedy', 'dementia', 'demons', 'drama', 'ecchi', 'fantasy', 'game', 'harem', 'hentai', 'historical', 'horror', 'josei', 'kids', 'magic', 'martial arts', 'mecha', 'military', 'music', 'mystery', 'parody', 'police', 'psychological', 'romance', 'samurai', 'school', 'sci-fi', 'seinen', 'shoujo', 'shoujo ai', 'shounen', 'shounen ai', 'slice of life', 'space', 'sports', 'super power', 'supernatural', 'thriller', 'vampire', 'yaoi', 'yuri']\n"
     ]
    }
   ],
   "source": [
    "cvr = CountVectorizer(tokenizer= lambda x:x.split(', ')) # hanya koma untuk memecah kolom genre\n",
    "\n",
    "mgenre_a = cvr.fit_transform(df_anime['genre'])\n",
    "\n",
    "print(len(cvr.get_feature_names()))\n",
    "print(cvr.get_feature_names())"
   ]
  },
  {
   "cell_type": "code",
   "execution_count": 12,
   "metadata": {},
   "outputs": [
    {
     "output_type": "execute_result",
     "data": {
      "text/plain": [
       "array([[0, 0, 0, ..., 0, 0, 0],\n",
       "       [1, 1, 0, ..., 0, 0, 0],\n",
       "       [1, 0, 0, ..., 0, 0, 0],\n",
       "       ...,\n",
       "       [0, 0, 0, ..., 0, 0, 0],\n",
       "       [0, 0, 0, ..., 0, 0, 0],\n",
       "       [0, 0, 0, ..., 0, 0, 0]], dtype=int64)"
      ]
     },
     "metadata": {},
     "execution_count": 12
    }
   ],
   "source": [
    "mgenre_a.toarray()"
   ]
  },
  {
   "cell_type": "code",
   "execution_count": 13,
   "metadata": {},
   "outputs": [
    {
     "output_type": "execute_result",
     "data": {
      "text/plain": [
       "       action  adventure  cars  comedy  dementia  demons  drama  ecchi  \\\n",
       "0           0          0     0       0         0       0      1      0   \n",
       "1           1          1     0       0         0       0      1      0   \n",
       "2           1          0     0       1         0       0      0      0   \n",
       "3           0          0     0       0         0       0      0      0   \n",
       "4           1          0     0       1         0       0      0      0   \n",
       "...       ...        ...   ...     ...       ...     ...    ...    ...   \n",
       "12012       0          0     0       0         0       0      0      0   \n",
       "12013       0          0     0       0         0       0      0      0   \n",
       "12014       0          0     0       0         0       0      0      0   \n",
       "12015       0          0     0       0         0       0      0      0   \n",
       "12016       0          0     0       0         0       0      0      0   \n",
       "\n",
       "       fantasy  game  ...  shounen ai  slice of life  space  sports  \\\n",
       "0            0     0  ...           0              0      0       0   \n",
       "1            1     0  ...           0              0      0       0   \n",
       "2            0     0  ...           0              0      0       0   \n",
       "3            0     0  ...           0              0      0       0   \n",
       "4            0     0  ...           0              0      0       0   \n",
       "...        ...   ...  ...         ...            ...    ...     ...   \n",
       "12012        0     0  ...           0              0      0       0   \n",
       "12013        0     0  ...           0              0      0       0   \n",
       "12014        0     0  ...           0              0      0       0   \n",
       "12015        0     0  ...           0              0      0       0   \n",
       "12016        0     0  ...           0              0      0       0   \n",
       "\n",
       "       super power  supernatural  thriller  vampire  yaoi  yuri  \n",
       "0                0             1         0        0     0     0  \n",
       "1                0             0         0        0     0     0  \n",
       "2                0             0         0        0     0     0  \n",
       "3                0             0         1        0     0     0  \n",
       "4                0             0         0        0     0     0  \n",
       "...            ...           ...       ...      ...   ...   ...  \n",
       "12012            0             0         0        0     0     0  \n",
       "12013            0             0         0        0     0     0  \n",
       "12014            0             0         0        0     0     0  \n",
       "12015            0             0         0        0     0     0  \n",
       "12016            0             0         0        0     0     0  \n",
       "\n",
       "[12017 rows x 43 columns]"
      ],
      "text/html": "<div>\n<style scoped>\n    .dataframe tbody tr th:only-of-type {\n        vertical-align: middle;\n    }\n\n    .dataframe tbody tr th {\n        vertical-align: top;\n    }\n\n    .dataframe thead th {\n        text-align: right;\n    }\n</style>\n<table border=\"1\" class=\"dataframe\">\n  <thead>\n    <tr style=\"text-align: right;\">\n      <th></th>\n      <th>action</th>\n      <th>adventure</th>\n      <th>cars</th>\n      <th>comedy</th>\n      <th>dementia</th>\n      <th>demons</th>\n      <th>drama</th>\n      <th>ecchi</th>\n      <th>fantasy</th>\n      <th>game</th>\n      <th>...</th>\n      <th>shounen ai</th>\n      <th>slice of life</th>\n      <th>space</th>\n      <th>sports</th>\n      <th>super power</th>\n      <th>supernatural</th>\n      <th>thriller</th>\n      <th>vampire</th>\n      <th>yaoi</th>\n      <th>yuri</th>\n    </tr>\n  </thead>\n  <tbody>\n    <tr>\n      <th>0</th>\n      <td>0</td>\n      <td>0</td>\n      <td>0</td>\n      <td>0</td>\n      <td>0</td>\n      <td>0</td>\n      <td>1</td>\n      <td>0</td>\n      <td>0</td>\n      <td>0</td>\n      <td>...</td>\n      <td>0</td>\n      <td>0</td>\n      <td>0</td>\n      <td>0</td>\n      <td>0</td>\n      <td>1</td>\n      <td>0</td>\n      <td>0</td>\n      <td>0</td>\n      <td>0</td>\n    </tr>\n    <tr>\n      <th>1</th>\n      <td>1</td>\n      <td>1</td>\n      <td>0</td>\n      <td>0</td>\n      <td>0</td>\n      <td>0</td>\n      <td>1</td>\n      <td>0</td>\n      <td>1</td>\n      <td>0</td>\n      <td>...</td>\n      <td>0</td>\n      <td>0</td>\n      <td>0</td>\n      <td>0</td>\n      <td>0</td>\n      <td>0</td>\n      <td>0</td>\n      <td>0</td>\n      <td>0</td>\n      <td>0</td>\n    </tr>\n    <tr>\n      <th>2</th>\n      <td>1</td>\n      <td>0</td>\n      <td>0</td>\n      <td>1</td>\n      <td>0</td>\n      <td>0</td>\n      <td>0</td>\n      <td>0</td>\n      <td>0</td>\n      <td>0</td>\n      <td>...</td>\n      <td>0</td>\n      <td>0</td>\n      <td>0</td>\n      <td>0</td>\n      <td>0</td>\n      <td>0</td>\n      <td>0</td>\n      <td>0</td>\n      <td>0</td>\n      <td>0</td>\n    </tr>\n    <tr>\n      <th>3</th>\n      <td>0</td>\n      <td>0</td>\n      <td>0</td>\n      <td>0</td>\n      <td>0</td>\n      <td>0</td>\n      <td>0</td>\n      <td>0</td>\n      <td>0</td>\n      <td>0</td>\n      <td>...</td>\n      <td>0</td>\n      <td>0</td>\n      <td>0</td>\n      <td>0</td>\n      <td>0</td>\n      <td>0</td>\n      <td>1</td>\n      <td>0</td>\n      <td>0</td>\n      <td>0</td>\n    </tr>\n    <tr>\n      <th>4</th>\n      <td>1</td>\n      <td>0</td>\n      <td>0</td>\n      <td>1</td>\n      <td>0</td>\n      <td>0</td>\n      <td>0</td>\n      <td>0</td>\n      <td>0</td>\n      <td>0</td>\n      <td>...</td>\n      <td>0</td>\n      <td>0</td>\n      <td>0</td>\n      <td>0</td>\n      <td>0</td>\n      <td>0</td>\n      <td>0</td>\n      <td>0</td>\n      <td>0</td>\n      <td>0</td>\n    </tr>\n    <tr>\n      <th>...</th>\n      <td>...</td>\n      <td>...</td>\n      <td>...</td>\n      <td>...</td>\n      <td>...</td>\n      <td>...</td>\n      <td>...</td>\n      <td>...</td>\n      <td>...</td>\n      <td>...</td>\n      <td>...</td>\n      <td>...</td>\n      <td>...</td>\n      <td>...</td>\n      <td>...</td>\n      <td>...</td>\n      <td>...</td>\n      <td>...</td>\n      <td>...</td>\n      <td>...</td>\n      <td>...</td>\n    </tr>\n    <tr>\n      <th>12012</th>\n      <td>0</td>\n      <td>0</td>\n      <td>0</td>\n      <td>0</td>\n      <td>0</td>\n      <td>0</td>\n      <td>0</td>\n      <td>0</td>\n      <td>0</td>\n      <td>0</td>\n      <td>...</td>\n      <td>0</td>\n      <td>0</td>\n      <td>0</td>\n      <td>0</td>\n      <td>0</td>\n      <td>0</td>\n      <td>0</td>\n      <td>0</td>\n      <td>0</td>\n      <td>0</td>\n    </tr>\n    <tr>\n      <th>12013</th>\n      <td>0</td>\n      <td>0</td>\n      <td>0</td>\n      <td>0</td>\n      <td>0</td>\n      <td>0</td>\n      <td>0</td>\n      <td>0</td>\n      <td>0</td>\n      <td>0</td>\n      <td>...</td>\n      <td>0</td>\n      <td>0</td>\n      <td>0</td>\n      <td>0</td>\n      <td>0</td>\n      <td>0</td>\n      <td>0</td>\n      <td>0</td>\n      <td>0</td>\n      <td>0</td>\n    </tr>\n    <tr>\n      <th>12014</th>\n      <td>0</td>\n      <td>0</td>\n      <td>0</td>\n      <td>0</td>\n      <td>0</td>\n      <td>0</td>\n      <td>0</td>\n      <td>0</td>\n      <td>0</td>\n      <td>0</td>\n      <td>...</td>\n      <td>0</td>\n      <td>0</td>\n      <td>0</td>\n      <td>0</td>\n      <td>0</td>\n      <td>0</td>\n      <td>0</td>\n      <td>0</td>\n      <td>0</td>\n      <td>0</td>\n    </tr>\n    <tr>\n      <th>12015</th>\n      <td>0</td>\n      <td>0</td>\n      <td>0</td>\n      <td>0</td>\n      <td>0</td>\n      <td>0</td>\n      <td>0</td>\n      <td>0</td>\n      <td>0</td>\n      <td>0</td>\n      <td>...</td>\n      <td>0</td>\n      <td>0</td>\n      <td>0</td>\n      <td>0</td>\n      <td>0</td>\n      <td>0</td>\n      <td>0</td>\n      <td>0</td>\n      <td>0</td>\n      <td>0</td>\n    </tr>\n    <tr>\n      <th>12016</th>\n      <td>0</td>\n      <td>0</td>\n      <td>0</td>\n      <td>0</td>\n      <td>0</td>\n      <td>0</td>\n      <td>0</td>\n      <td>0</td>\n      <td>0</td>\n      <td>0</td>\n      <td>...</td>\n      <td>0</td>\n      <td>0</td>\n      <td>0</td>\n      <td>0</td>\n      <td>0</td>\n      <td>0</td>\n      <td>0</td>\n      <td>0</td>\n      <td>0</td>\n      <td>0</td>\n    </tr>\n  </tbody>\n</table>\n<p>12017 rows × 43 columns</p>\n</div>"
     },
     "metadata": {},
     "execution_count": 13
    }
   ],
   "source": [
    "genre = pd.DataFrame(mgenre_a.toarray(), columns=cvr.get_feature_names())\n",
    "genre"
   ]
  },
  {
   "cell_type": "code",
   "execution_count": 14,
   "metadata": {},
   "outputs": [],
   "source": [
    "# df_genre = pd.concat([df_anime[['name']], genre], axis=1)\n",
    "# df_genre"
   ]
  },
  {
   "cell_type": "code",
   "execution_count": 15,
   "metadata": {},
   "outputs": [
    {
     "output_type": "execute_result",
     "data": {
      "text/plain": [
       "       action  adventure  cars  comedy  dementia  demons  drama  ecchi  \\\n",
       "0           0          0     0       0         0       0      1      0   \n",
       "1           1          1     0       0         0       0      1      0   \n",
       "2           1          0     0       1         0       0      0      0   \n",
       "3           0          0     0       0         0       0      0      0   \n",
       "4           1          0     0       1         0       0      0      0   \n",
       "...       ...        ...   ...     ...       ...     ...    ...    ...   \n",
       "12012       0          0     0       0         0       0      0      0   \n",
       "12013       0          0     0       0         0       0      0      0   \n",
       "12014       0          0     0       0         0       0      0      0   \n",
       "12015       0          0     0       0         0       0      0      0   \n",
       "12016       0          0     0       0         0       0      0      0   \n",
       "\n",
       "       fantasy  game  ...  slice of life  space  sports  super power  \\\n",
       "0            0     0  ...              0      0       0            0   \n",
       "1            1     0  ...              0      0       0            0   \n",
       "2            0     0  ...              0      0       0            0   \n",
       "3            0     0  ...              0      0       0            0   \n",
       "4            0     0  ...              0      0       0            0   \n",
       "...        ...   ...  ...            ...    ...     ...          ...   \n",
       "12012        0     0  ...              0      0       0            0   \n",
       "12013        0     0  ...              0      0       0            0   \n",
       "12014        0     0  ...              0      0       0            0   \n",
       "12015        0     0  ...              0      0       0            0   \n",
       "12016        0     0  ...              0      0       0            0   \n",
       "\n",
       "       supernatural  thriller  vampire  yaoi  yuri  \\\n",
       "0                 1         0        0     0     0   \n",
       "1                 0         0        0     0     0   \n",
       "2                 0         0        0     0     0   \n",
       "3                 0         1        0     0     0   \n",
       "4                 0         0        0     0     0   \n",
       "...             ...       ...      ...   ...   ...   \n",
       "12012             0         0        0     0     0   \n",
       "12013             0         0        0     0     0   \n",
       "12014             0         0        0     0     0   \n",
       "12015             0         0        0     0     0   \n",
       "12016             0         0        0     0     0   \n",
       "\n",
       "                                         name  \n",
       "0                              Kimi no Na wa.  \n",
       "1            Fullmetal Alchemist: Brotherhood  \n",
       "2                                    Gintama°  \n",
       "3                                 Steins;Gate  \n",
       "4                               Gintama&#039;  \n",
       "...                                       ...  \n",
       "12012                Megami Tantei Vinus File  \n",
       "12013                                 Shusaku  \n",
       "12014  Bakuhatsu Sunzen!! Tenshi no Countdown  \n",
       "12015                           Dragon Knight  \n",
       "12016                               Five Card  \n",
       "\n",
       "[12017 rows x 44 columns]"
      ],
      "text/html": "<div>\n<style scoped>\n    .dataframe tbody tr th:only-of-type {\n        vertical-align: middle;\n    }\n\n    .dataframe tbody tr th {\n        vertical-align: top;\n    }\n\n    .dataframe thead th {\n        text-align: right;\n    }\n</style>\n<table border=\"1\" class=\"dataframe\">\n  <thead>\n    <tr style=\"text-align: right;\">\n      <th></th>\n      <th>action</th>\n      <th>adventure</th>\n      <th>cars</th>\n      <th>comedy</th>\n      <th>dementia</th>\n      <th>demons</th>\n      <th>drama</th>\n      <th>ecchi</th>\n      <th>fantasy</th>\n      <th>game</th>\n      <th>...</th>\n      <th>slice of life</th>\n      <th>space</th>\n      <th>sports</th>\n      <th>super power</th>\n      <th>supernatural</th>\n      <th>thriller</th>\n      <th>vampire</th>\n      <th>yaoi</th>\n      <th>yuri</th>\n      <th>name</th>\n    </tr>\n  </thead>\n  <tbody>\n    <tr>\n      <th>0</th>\n      <td>0</td>\n      <td>0</td>\n      <td>0</td>\n      <td>0</td>\n      <td>0</td>\n      <td>0</td>\n      <td>1</td>\n      <td>0</td>\n      <td>0</td>\n      <td>0</td>\n      <td>...</td>\n      <td>0</td>\n      <td>0</td>\n      <td>0</td>\n      <td>0</td>\n      <td>1</td>\n      <td>0</td>\n      <td>0</td>\n      <td>0</td>\n      <td>0</td>\n      <td>Kimi no Na wa.</td>\n    </tr>\n    <tr>\n      <th>1</th>\n      <td>1</td>\n      <td>1</td>\n      <td>0</td>\n      <td>0</td>\n      <td>0</td>\n      <td>0</td>\n      <td>1</td>\n      <td>0</td>\n      <td>1</td>\n      <td>0</td>\n      <td>...</td>\n      <td>0</td>\n      <td>0</td>\n      <td>0</td>\n      <td>0</td>\n      <td>0</td>\n      <td>0</td>\n      <td>0</td>\n      <td>0</td>\n      <td>0</td>\n      <td>Fullmetal Alchemist: Brotherhood</td>\n    </tr>\n    <tr>\n      <th>2</th>\n      <td>1</td>\n      <td>0</td>\n      <td>0</td>\n      <td>1</td>\n      <td>0</td>\n      <td>0</td>\n      <td>0</td>\n      <td>0</td>\n      <td>0</td>\n      <td>0</td>\n      <td>...</td>\n      <td>0</td>\n      <td>0</td>\n      <td>0</td>\n      <td>0</td>\n      <td>0</td>\n      <td>0</td>\n      <td>0</td>\n      <td>0</td>\n      <td>0</td>\n      <td>Gintama°</td>\n    </tr>\n    <tr>\n      <th>3</th>\n      <td>0</td>\n      <td>0</td>\n      <td>0</td>\n      <td>0</td>\n      <td>0</td>\n      <td>0</td>\n      <td>0</td>\n      <td>0</td>\n      <td>0</td>\n      <td>0</td>\n      <td>...</td>\n      <td>0</td>\n      <td>0</td>\n      <td>0</td>\n      <td>0</td>\n      <td>0</td>\n      <td>1</td>\n      <td>0</td>\n      <td>0</td>\n      <td>0</td>\n      <td>Steins;Gate</td>\n    </tr>\n    <tr>\n      <th>4</th>\n      <td>1</td>\n      <td>0</td>\n      <td>0</td>\n      <td>1</td>\n      <td>0</td>\n      <td>0</td>\n      <td>0</td>\n      <td>0</td>\n      <td>0</td>\n      <td>0</td>\n      <td>...</td>\n      <td>0</td>\n      <td>0</td>\n      <td>0</td>\n      <td>0</td>\n      <td>0</td>\n      <td>0</td>\n      <td>0</td>\n      <td>0</td>\n      <td>0</td>\n      <td>Gintama&amp;#039;</td>\n    </tr>\n    <tr>\n      <th>...</th>\n      <td>...</td>\n      <td>...</td>\n      <td>...</td>\n      <td>...</td>\n      <td>...</td>\n      <td>...</td>\n      <td>...</td>\n      <td>...</td>\n      <td>...</td>\n      <td>...</td>\n      <td>...</td>\n      <td>...</td>\n      <td>...</td>\n      <td>...</td>\n      <td>...</td>\n      <td>...</td>\n      <td>...</td>\n      <td>...</td>\n      <td>...</td>\n      <td>...</td>\n      <td>...</td>\n    </tr>\n    <tr>\n      <th>12012</th>\n      <td>0</td>\n      <td>0</td>\n      <td>0</td>\n      <td>0</td>\n      <td>0</td>\n      <td>0</td>\n      <td>0</td>\n      <td>0</td>\n      <td>0</td>\n      <td>0</td>\n      <td>...</td>\n      <td>0</td>\n      <td>0</td>\n      <td>0</td>\n      <td>0</td>\n      <td>0</td>\n      <td>0</td>\n      <td>0</td>\n      <td>0</td>\n      <td>0</td>\n      <td>Megami Tantei Vinus File</td>\n    </tr>\n    <tr>\n      <th>12013</th>\n      <td>0</td>\n      <td>0</td>\n      <td>0</td>\n      <td>0</td>\n      <td>0</td>\n      <td>0</td>\n      <td>0</td>\n      <td>0</td>\n      <td>0</td>\n      <td>0</td>\n      <td>...</td>\n      <td>0</td>\n      <td>0</td>\n      <td>0</td>\n      <td>0</td>\n      <td>0</td>\n      <td>0</td>\n      <td>0</td>\n      <td>0</td>\n      <td>0</td>\n      <td>Shusaku</td>\n    </tr>\n    <tr>\n      <th>12014</th>\n      <td>0</td>\n      <td>0</td>\n      <td>0</td>\n      <td>0</td>\n      <td>0</td>\n      <td>0</td>\n      <td>0</td>\n      <td>0</td>\n      <td>0</td>\n      <td>0</td>\n      <td>...</td>\n      <td>0</td>\n      <td>0</td>\n      <td>0</td>\n      <td>0</td>\n      <td>0</td>\n      <td>0</td>\n      <td>0</td>\n      <td>0</td>\n      <td>0</td>\n      <td>Bakuhatsu Sunzen!! Tenshi no Countdown</td>\n    </tr>\n    <tr>\n      <th>12015</th>\n      <td>0</td>\n      <td>0</td>\n      <td>0</td>\n      <td>0</td>\n      <td>0</td>\n      <td>0</td>\n      <td>0</td>\n      <td>0</td>\n      <td>0</td>\n      <td>0</td>\n      <td>...</td>\n      <td>0</td>\n      <td>0</td>\n      <td>0</td>\n      <td>0</td>\n      <td>0</td>\n      <td>0</td>\n      <td>0</td>\n      <td>0</td>\n      <td>0</td>\n      <td>Dragon Knight</td>\n    </tr>\n    <tr>\n      <th>12016</th>\n      <td>0</td>\n      <td>0</td>\n      <td>0</td>\n      <td>0</td>\n      <td>0</td>\n      <td>0</td>\n      <td>0</td>\n      <td>0</td>\n      <td>0</td>\n      <td>0</td>\n      <td>...</td>\n      <td>0</td>\n      <td>0</td>\n      <td>0</td>\n      <td>0</td>\n      <td>0</td>\n      <td>0</td>\n      <td>0</td>\n      <td>0</td>\n      <td>0</td>\n      <td>Five Card</td>\n    </tr>\n  </tbody>\n</table>\n<p>12017 rows × 44 columns</p>\n</div>"
     },
     "metadata": {},
     "execution_count": 15
    }
   ],
   "source": [
    "genre['name'] = df_anime['name']\n",
    "df_genre = genre\n",
    "df_genre"
   ]
  },
  {
   "cell_type": "code",
   "execution_count": null,
   "metadata": {},
   "outputs": [],
   "source": []
  },
  {
   "source": [
    "# 1. Cosine Similarity"
   ],
   "cell_type": "markdown",
   "metadata": {}
  },
  {
   "source": [
    "## Anime Recommender"
   ],
   "cell_type": "markdown",
   "metadata": {}
  },
  {
   "cell_type": "code",
   "execution_count": 16,
   "metadata": {},
   "outputs": [
    {
     "output_type": "execute_result",
     "data": {
      "text/plain": [
       "     action  adventure  cars  comedy  dementia  demons  drama  ecchi  fantasy  \\\n",
       "841       1          0     0       1         0       0      0      0        0   \n",
       "\n",
       "     game  ...  shounen ai  slice of life  space  sports  super power  \\\n",
       "841     0  ...           0              0      0       0            1   \n",
       "\n",
       "     supernatural  thriller  vampire  yaoi  yuri  \n",
       "841             0         0        0     0     0  \n",
       "\n",
       "[1 rows x 43 columns]"
      ],
      "text/html": "<div>\n<style scoped>\n    .dataframe tbody tr th:only-of-type {\n        vertical-align: middle;\n    }\n\n    .dataframe tbody tr th {\n        vertical-align: top;\n    }\n\n    .dataframe thead th {\n        text-align: right;\n    }\n</style>\n<table border=\"1\" class=\"dataframe\">\n  <thead>\n    <tr style=\"text-align: right;\">\n      <th></th>\n      <th>action</th>\n      <th>adventure</th>\n      <th>cars</th>\n      <th>comedy</th>\n      <th>dementia</th>\n      <th>demons</th>\n      <th>drama</th>\n      <th>ecchi</th>\n      <th>fantasy</th>\n      <th>game</th>\n      <th>...</th>\n      <th>shounen ai</th>\n      <th>slice of life</th>\n      <th>space</th>\n      <th>sports</th>\n      <th>super power</th>\n      <th>supernatural</th>\n      <th>thriller</th>\n      <th>vampire</th>\n      <th>yaoi</th>\n      <th>yuri</th>\n    </tr>\n  </thead>\n  <tbody>\n    <tr>\n      <th>841</th>\n      <td>1</td>\n      <td>0</td>\n      <td>0</td>\n      <td>1</td>\n      <td>0</td>\n      <td>0</td>\n      <td>0</td>\n      <td>0</td>\n      <td>0</td>\n      <td>0</td>\n      <td>...</td>\n      <td>0</td>\n      <td>0</td>\n      <td>0</td>\n      <td>0</td>\n      <td>1</td>\n      <td>0</td>\n      <td>0</td>\n      <td>0</td>\n      <td>0</td>\n      <td>0</td>\n    </tr>\n  </tbody>\n</table>\n<p>1 rows × 43 columns</p>\n</div>"
     },
     "metadata": {},
     "execution_count": 16
    }
   ],
   "source": [
    "# user menyukai naruto\n",
    "df_genre[df_genre['name']=='Naruto'].drop('name', axis=1)"
   ]
  },
  {
   "cell_type": "code",
   "execution_count": 17,
   "metadata": {},
   "outputs": [
    {
     "output_type": "execute_result",
     "data": {
      "text/plain": [
       "array([[0.        , 0.3380617 , 0.50709255, ..., 0.        , 0.        ,\n",
       "        0.        ]])"
      ]
     },
     "metadata": {},
     "execution_count": 17
    }
   ],
   "source": [
    "cosScore_anime = cosine_similarity(\n",
    "    df_genre[df_genre['name']=='Naruto'].drop('name', axis=1), \n",
    "    df_genre.drop('name', axis=1))\n",
    "\n",
    "cosScore_anime"
   ]
  },
  {
   "cell_type": "code",
   "execution_count": 18,
   "metadata": {},
   "outputs": [],
   "source": [
    "# df_cosScore = df_anime[['name']]\n",
    "# df_cosScore['cosScore'] = cosScore_anime\n",
    "\n",
    "# df_cosScore"
   ]
  },
  {
   "cell_type": "code",
   "execution_count": 19,
   "metadata": {},
   "outputs": [
    {
     "output_type": "execute_result",
     "data": {
      "text/plain": [
       "                                                    name  cosScore\n",
       "0                                         Kimi no Na wa.  0.000000\n",
       "1                       Fullmetal Alchemist: Brotherhood  0.338062\n",
       "2                                               Gintama°  0.507093\n",
       "3                                            Steins;Gate  0.000000\n",
       "4                                          Gintama&#039;  0.507093\n",
       "...                                                  ...       ...\n",
       "12289       Toushindai My Lover: Minami tai Mecha-Minami       NaN\n",
       "12290                                        Under World       NaN\n",
       "12291                     Violence Gekiga David no Hoshi       NaN\n",
       "12292  Violence Gekiga Shin David no Hoshi: Inma Dens...       NaN\n",
       "12293                   Yasuji no Pornorama: Yacchimae!!       NaN\n",
       "\n",
       "[12284 rows x 2 columns]"
      ],
      "text/html": "<div>\n<style scoped>\n    .dataframe tbody tr th:only-of-type {\n        vertical-align: middle;\n    }\n\n    .dataframe tbody tr th {\n        vertical-align: top;\n    }\n\n    .dataframe thead th {\n        text-align: right;\n    }\n</style>\n<table border=\"1\" class=\"dataframe\">\n  <thead>\n    <tr style=\"text-align: right;\">\n      <th></th>\n      <th>name</th>\n      <th>cosScore</th>\n    </tr>\n  </thead>\n  <tbody>\n    <tr>\n      <th>0</th>\n      <td>Kimi no Na wa.</td>\n      <td>0.000000</td>\n    </tr>\n    <tr>\n      <th>1</th>\n      <td>Fullmetal Alchemist: Brotherhood</td>\n      <td>0.338062</td>\n    </tr>\n    <tr>\n      <th>2</th>\n      <td>Gintama°</td>\n      <td>0.507093</td>\n    </tr>\n    <tr>\n      <th>3</th>\n      <td>Steins;Gate</td>\n      <td>0.000000</td>\n    </tr>\n    <tr>\n      <th>4</th>\n      <td>Gintama&amp;#039;</td>\n      <td>0.507093</td>\n    </tr>\n    <tr>\n      <th>...</th>\n      <td>...</td>\n      <td>...</td>\n    </tr>\n    <tr>\n      <th>12289</th>\n      <td>Toushindai My Lover: Minami tai Mecha-Minami</td>\n      <td>NaN</td>\n    </tr>\n    <tr>\n      <th>12290</th>\n      <td>Under World</td>\n      <td>NaN</td>\n    </tr>\n    <tr>\n      <th>12291</th>\n      <td>Violence Gekiga David no Hoshi</td>\n      <td>NaN</td>\n    </tr>\n    <tr>\n      <th>12292</th>\n      <td>Violence Gekiga Shin David no Hoshi: Inma Dens...</td>\n      <td>NaN</td>\n    </tr>\n    <tr>\n      <th>12293</th>\n      <td>Yasuji no Pornorama: Yacchimae!!</td>\n      <td>NaN</td>\n    </tr>\n  </tbody>\n</table>\n<p>12284 rows × 2 columns</p>\n</div>"
     },
     "metadata": {},
     "execution_count": 19
    }
   ],
   "source": [
    "df_cosScore = pd.concat([df_anime[['name']], pd.DataFrame(cosScore_anime, index=['cosScore']).T], axis=1)\n",
    "\n",
    "df_cosScore"
   ]
  },
  {
   "cell_type": "code",
   "execution_count": 20,
   "metadata": {},
   "outputs": [],
   "source": [
    "# df_cosScore.sort_values('cosScore', ascending=False).reset_index(drop=True)"
   ]
  },
  {
   "cell_type": "code",
   "execution_count": 21,
   "metadata": {},
   "outputs": [
    {
     "output_type": "execute_result",
     "data": {
      "text/plain": [
       "0    Boruto: Naruto the Movie - Naruto ga Hokage ni...\n",
       "1                                          Naruto x UT\n",
       "2                             Boruto: Naruto the Movie\n",
       "3                                   Naruto: Shippuuden\n",
       "4         Mudazumo Naki Kaikaku: The Legend of Koizumi\n",
       "Name: name, dtype: object"
      ]
     },
     "metadata": {},
     "execution_count": 21
    }
   ],
   "source": [
    "df_cosScore[df_cosScore['name']!='Naruto'].sort_values('cosScore', ascending=False).reset_index(drop=True)['name'][:5]"
   ]
  },
  {
   "cell_type": "code",
   "execution_count": 22,
   "metadata": {},
   "outputs": [
    {
     "output_type": "execute_result",
     "data": {
      "text/plain": [
       "1103    Boruto: Naruto the Movie - Naruto ga Hokage ni...\n",
       "1343                                          Naruto x UT\n",
       "486                              Boruto: Naruto the Movie\n",
       "615                                    Naruto: Shippuuden\n",
       "2996         Mudazumo Naki Kaikaku: The Legend of Koizumi\n",
       "Name: name, dtype: object"
      ]
     },
     "metadata": {},
     "execution_count": 22
    }
   ],
   "source": [
    "df_cosScore[df_cosScore['name']!='Naruto'].sort_values('cosScore', ascending=False)['name'][:5]"
   ]
  },
  {
   "cell_type": "code",
   "execution_count": null,
   "metadata": {},
   "outputs": [],
   "source": []
  },
  {
   "cell_type": "code",
   "execution_count": 23,
   "metadata": {},
   "outputs": [],
   "source": [
    "# Coba buat function di mana kita tinggal memasukkan nama anime, dan mendapatkan rekomendasi anime lain yg mirip dgn anime yg kita masukkan"
   ]
  },
  {
   "cell_type": "code",
   "execution_count": 24,
   "metadata": {},
   "outputs": [],
   "source": [
    "# Function Rekomendasi Anime\n",
    "\n",
    "def top5anime(anime_name):\n",
    "    # indexing anime yg kita suka\n",
    "    df_genre[df_genre['name']== anime_name ].drop('name', axis=1)\n",
    "\n",
    "    # cosine similarity\n",
    "    cosScore_anime = cosine_similarity(\n",
    "        df_genre[df_genre['name']== anime_name].drop('name', axis=1), \n",
    "        df_genre.drop('name', axis=1))\n",
    "\n",
    "    # buat df_cosScore berisi kolom name dan cosScore\n",
    "    df_cosScore = pd.concat([df_anime[['name']], pd.DataFrame(cosScore_anime, index=['cosScore']).T], axis=1)\n",
    "\n",
    "    # sorting top 5\n",
    "    return df_cosScore[df_cosScore['name']!= anime_name].sort_values('cosScore', ascending=False)['name'][:5]"
   ]
  },
  {
   "cell_type": "code",
   "execution_count": 25,
   "metadata": {},
   "outputs": [
    {
     "output_type": "execute_result",
     "data": {
      "text/plain": [
       "2140        Doraemon Movie 30: Nobita no Ningyo Daikaisen\n",
       "2395           Doraemon Movie 08: Nobita to Ryuu no Kishi\n",
       "2182           Doraemon Movie 10: Nobita no Nippon Tanjou\n",
       "993     Doraemon Movie 31: Shin Nobita to Tetsujin Hei...\n",
       "4791                                      Beautiful World\n",
       "Name: name, dtype: object"
      ]
     },
     "metadata": {},
     "execution_count": 25
    }
   ],
   "source": [
    "top5anime('Doraemon Movie 12: Nobita no Dorabian Nights')"
   ]
  },
  {
   "cell_type": "code",
   "execution_count": 26,
   "metadata": {},
   "outputs": [
    {
     "output_type": "execute_result",
     "data": {
      "text/plain": [
       "928     Detective Conan Movie 19: The Hellfire Sunflowers\n",
       "205       Detective Conan Movie 20: The Darkest Nightmare\n",
       "332     Detective Conan Movie 18: The Sniper from Anot...\n",
       "227     Detective Conan Movie 14: The Lost Ship in the...\n",
       "2834              Detective Conan: Happy New Year Special\n",
       "Name: name, dtype: object"
      ]
     },
     "metadata": {},
     "execution_count": 26
    }
   ],
   "source": [
    "top5anime('Detective Conan Movie 13: The Raven Chaser')"
   ]
  },
  {
   "cell_type": "code",
   "execution_count": 27,
   "metadata": {},
   "outputs": [
    {
     "output_type": "execute_result",
     "data": {
      "text/plain": [
       "10413    Subarashii Sekai Ryokou: Alaska no Tabi &quot;...\n",
       "9633                          Mr. Shape: High Touch Taisou\n",
       "2108               Hunter x Hunter Movie: The Last Mission\n",
       "202                          Hunter x Hunter: Greed Island\n",
       "1974                  Hunter x Hunter Movie: Phantom Rouge\n",
       "Name: name, dtype: object"
      ]
     },
     "metadata": {},
     "execution_count": 27
    }
   ],
   "source": [
    "top5anime('Hunter x Hunter: Greed Island Final')"
   ]
  },
  {
   "source": [
    "# 2. Content Based Filtering"
   ],
   "cell_type": "markdown",
   "metadata": {}
  },
  {
   "source": [
    "## Movie Scoring/User Feature Vector"
   ],
   "cell_type": "markdown",
   "metadata": {}
  },
  {
   "cell_type": "code",
   "execution_count": 28,
   "metadata": {},
   "outputs": [
    {
     "output_type": "execute_result",
     "data": {
      "text/plain": [
       "          movie  scores  Action  Sci-Fi  Adventure  Comedy  Drama\n",
       "0  Terminator 2       7       1       1          0       0      0\n",
       "1  Interstellar       9       0       1          1       0      1\n",
       "2     Ant Man 2       8       1       1          1       1      0\n",
       "3      3 Idiots       9       0       0          0       1      1"
      ],
      "text/html": "<div>\n<style scoped>\n    .dataframe tbody tr th:only-of-type {\n        vertical-align: middle;\n    }\n\n    .dataframe tbody tr th {\n        vertical-align: top;\n    }\n\n    .dataframe thead th {\n        text-align: right;\n    }\n</style>\n<table border=\"1\" class=\"dataframe\">\n  <thead>\n    <tr style=\"text-align: right;\">\n      <th></th>\n      <th>movie</th>\n      <th>scores</th>\n      <th>Action</th>\n      <th>Sci-Fi</th>\n      <th>Adventure</th>\n      <th>Comedy</th>\n      <th>Drama</th>\n    </tr>\n  </thead>\n  <tbody>\n    <tr>\n      <th>0</th>\n      <td>Terminator 2</td>\n      <td>7</td>\n      <td>1</td>\n      <td>1</td>\n      <td>0</td>\n      <td>0</td>\n      <td>0</td>\n    </tr>\n    <tr>\n      <th>1</th>\n      <td>Interstellar</td>\n      <td>9</td>\n      <td>0</td>\n      <td>1</td>\n      <td>1</td>\n      <td>0</td>\n      <td>1</td>\n    </tr>\n    <tr>\n      <th>2</th>\n      <td>Ant Man 2</td>\n      <td>8</td>\n      <td>1</td>\n      <td>1</td>\n      <td>1</td>\n      <td>1</td>\n      <td>0</td>\n    </tr>\n    <tr>\n      <th>3</th>\n      <td>3 Idiots</td>\n      <td>9</td>\n      <td>0</td>\n      <td>0</td>\n      <td>0</td>\n      <td>1</td>\n      <td>1</td>\n    </tr>\n  </tbody>\n</table>\n</div>"
     },
     "metadata": {},
     "execution_count": 28
    }
   ],
   "source": [
    "movies = [\"Terminator 2\",\"Interstellar\",\"Ant Man 2\",\"3 Idiots\"]\n",
    "scores = [7,9,8,9]\n",
    "action = [1,0,1,0]\n",
    "scifi = [1,1,1,0]\n",
    "adventure = [0,1,1,0]\n",
    "comedy = [0,0,1,1]\n",
    "drama = [0,1,0,1]\n",
    "\n",
    "df_movies = pd.DataFrame({\n",
    "    'movie':movies,\n",
    "    'scores':scores,\n",
    "    'Action':action,\n",
    "    'Sci-Fi':scifi,\n",
    "    'Adventure':adventure,\n",
    "    'Comedy':comedy,\n",
    "    'Drama':drama\n",
    "})\n",
    "\n",
    "df_movies"
   ]
  },
  {
   "cell_type": "code",
   "execution_count": 29,
   "metadata": {},
   "outputs": [
    {
     "output_type": "execute_result",
     "data": {
      "text/plain": [
       "   scores  Action  Sci-Fi  Adventure  Comedy  Drama\n",
       "0       7       1       1          0       0      0\n",
       "1       9       0       1          1       0      1\n",
       "2       8       1       1          1       1      0\n",
       "3       9       0       0          0       1      1"
      ],
      "text/html": "<div>\n<style scoped>\n    .dataframe tbody tr th:only-of-type {\n        vertical-align: middle;\n    }\n\n    .dataframe tbody tr th {\n        vertical-align: top;\n    }\n\n    .dataframe thead th {\n        text-align: right;\n    }\n</style>\n<table border=\"1\" class=\"dataframe\">\n  <thead>\n    <tr style=\"text-align: right;\">\n      <th></th>\n      <th>scores</th>\n      <th>Action</th>\n      <th>Sci-Fi</th>\n      <th>Adventure</th>\n      <th>Comedy</th>\n      <th>Drama</th>\n    </tr>\n  </thead>\n  <tbody>\n    <tr>\n      <th>0</th>\n      <td>7</td>\n      <td>1</td>\n      <td>1</td>\n      <td>0</td>\n      <td>0</td>\n      <td>0</td>\n    </tr>\n    <tr>\n      <th>1</th>\n      <td>9</td>\n      <td>0</td>\n      <td>1</td>\n      <td>1</td>\n      <td>0</td>\n      <td>1</td>\n    </tr>\n    <tr>\n      <th>2</th>\n      <td>8</td>\n      <td>1</td>\n      <td>1</td>\n      <td>1</td>\n      <td>1</td>\n      <td>0</td>\n    </tr>\n    <tr>\n      <th>3</th>\n      <td>9</td>\n      <td>0</td>\n      <td>0</td>\n      <td>0</td>\n      <td>1</td>\n      <td>1</td>\n    </tr>\n  </tbody>\n</table>\n</div>"
     },
     "metadata": {},
     "execution_count": 29
    }
   ],
   "source": [
    "df_movies2 = df_movies.copy()\n",
    "df_movies2 = df_movies2.drop('movie', axis=1)\n",
    "df_movies2"
   ]
  },
  {
   "cell_type": "code",
   "execution_count": 30,
   "metadata": {},
   "outputs": [
    {
     "output_type": "execute_result",
     "data": {
      "text/plain": [
       "   scores  Action  Sci-Fi  Adventure  Comedy  Drama\n",
       "0       7       7       7          0       0      0\n",
       "1       9       0       9          9       0      9\n",
       "2       8       8       8          8       8      0\n",
       "3       9       0       0          0       9      9"
      ],
      "text/html": "<div>\n<style scoped>\n    .dataframe tbody tr th:only-of-type {\n        vertical-align: middle;\n    }\n\n    .dataframe tbody tr th {\n        vertical-align: top;\n    }\n\n    .dataframe thead th {\n        text-align: right;\n    }\n</style>\n<table border=\"1\" class=\"dataframe\">\n  <thead>\n    <tr style=\"text-align: right;\">\n      <th></th>\n      <th>scores</th>\n      <th>Action</th>\n      <th>Sci-Fi</th>\n      <th>Adventure</th>\n      <th>Comedy</th>\n      <th>Drama</th>\n    </tr>\n  </thead>\n  <tbody>\n    <tr>\n      <th>0</th>\n      <td>7</td>\n      <td>7</td>\n      <td>7</td>\n      <td>0</td>\n      <td>0</td>\n      <td>0</td>\n    </tr>\n    <tr>\n      <th>1</th>\n      <td>9</td>\n      <td>0</td>\n      <td>9</td>\n      <td>9</td>\n      <td>0</td>\n      <td>9</td>\n    </tr>\n    <tr>\n      <th>2</th>\n      <td>8</td>\n      <td>8</td>\n      <td>8</td>\n      <td>8</td>\n      <td>8</td>\n      <td>0</td>\n    </tr>\n    <tr>\n      <th>3</th>\n      <td>9</td>\n      <td>0</td>\n      <td>0</td>\n      <td>0</td>\n      <td>9</td>\n      <td>9</td>\n    </tr>\n  </tbody>\n</table>\n</div>"
     },
     "metadata": {},
     "execution_count": 30
    }
   ],
   "source": [
    "# for loop genre dikali score\n",
    "for i in ['Action','Sci-Fi','Adventure','Comedy','Drama']:\n",
    "    df_movies2[i] = df_movies2['scores']*df_movies2[i]\n",
    "\n",
    "df_movies2"
   ]
  },
  {
   "cell_type": "code",
   "execution_count": 31,
   "metadata": {},
   "outputs": [
    {
     "output_type": "execute_result",
     "data": {
      "text/plain": [
       "scores       33\n",
       "Action       15\n",
       "Sci-Fi       24\n",
       "Adventure    17\n",
       "Comedy       17\n",
       "Drama        18\n",
       "dtype: int64"
      ]
     },
     "metadata": {},
     "execution_count": 31
    }
   ],
   "source": [
    "df_movies2.sum()"
   ]
  },
  {
   "cell_type": "code",
   "execution_count": 32,
   "metadata": {},
   "outputs": [
    {
     "output_type": "execute_result",
     "data": {
      "text/plain": [
       "124"
      ]
     },
     "metadata": {},
     "execution_count": 32
    }
   ],
   "source": [
    "df_movies2.sum().sum()"
   ]
  },
  {
   "cell_type": "code",
   "execution_count": 33,
   "metadata": {},
   "outputs": [],
   "source": [
    "df_movies2 = df_movies2.drop('scores', axis=1)"
   ]
  },
  {
   "cell_type": "code",
   "execution_count": 34,
   "metadata": {},
   "outputs": [
    {
     "output_type": "execute_result",
     "data": {
      "text/plain": [
       "Action       0.164835\n",
       "Sci-Fi       0.263736\n",
       "Adventure    0.186813\n",
       "Comedy       0.186813\n",
       "Drama        0.197802\n",
       "dtype: float64"
      ]
     },
     "metadata": {},
     "execution_count": 34
    }
   ],
   "source": [
    "movies_scoring = df_movies2.sum()/df_movies2.sum().sum()\n",
    "movies_scoring # user feature vector"
   ]
  },
  {
   "cell_type": "code",
   "execution_count": null,
   "metadata": {},
   "outputs": [],
   "source": []
  },
  {
   "source": [
    "## Movie Rating Prediction"
   ],
   "cell_type": "markdown",
   "metadata": {}
  },
  {
   "cell_type": "code",
   "execution_count": 237,
   "metadata": {},
   "outputs": [
    {
     "output_type": "execute_result",
     "data": {
      "text/plain": [
       "        movie  Action  Sci-Fi  Adventure  Comedy  Drama\n",
       "0     Titanic       1       1          0       0      0\n",
       "1     Martian       0       1          1       0      1\n",
       "2  GOTG Vol 2       1       1          1       1      0"
      ],
      "text/html": "<div>\n<style scoped>\n    .dataframe tbody tr th:only-of-type {\n        vertical-align: middle;\n    }\n\n    .dataframe tbody tr th {\n        vertical-align: top;\n    }\n\n    .dataframe thead th {\n        text-align: right;\n    }\n</style>\n<table border=\"1\" class=\"dataframe\">\n  <thead>\n    <tr style=\"text-align: right;\">\n      <th></th>\n      <th>movie</th>\n      <th>Action</th>\n      <th>Sci-Fi</th>\n      <th>Adventure</th>\n      <th>Comedy</th>\n      <th>Drama</th>\n    </tr>\n  </thead>\n  <tbody>\n    <tr>\n      <th>0</th>\n      <td>Titanic</td>\n      <td>1</td>\n      <td>1</td>\n      <td>0</td>\n      <td>0</td>\n      <td>0</td>\n    </tr>\n    <tr>\n      <th>1</th>\n      <td>Martian</td>\n      <td>0</td>\n      <td>1</td>\n      <td>1</td>\n      <td>0</td>\n      <td>1</td>\n    </tr>\n    <tr>\n      <th>2</th>\n      <td>GOTG Vol 2</td>\n      <td>1</td>\n      <td>1</td>\n      <td>1</td>\n      <td>1</td>\n      <td>0</td>\n    </tr>\n  </tbody>\n</table>\n</div>"
     },
     "metadata": {},
     "execution_count": 237
    }
   ],
   "source": [
    "movies = [\"Titanic\",'Martian','GOTG Vol 2']\n",
    "action = [1,0,1]\n",
    "scifi = [1,1,1]\n",
    "adventure = [0,1,1]\n",
    "comedy = [0,0,1]\n",
    "drama = [0,1,0]\n",
    "\n",
    "df_movies_recommendation = pd.DataFrame({\n",
    "    'movie':movies,\n",
    "    'Action':action,\n",
    "    'Sci-Fi':scifi,\n",
    "    'Adventure':adventure,\n",
    "    'Comedy':comedy,\n",
    "    'Drama':drama\n",
    "})\n",
    "\n",
    "df_movies_recommendation"
   ]
  },
  {
   "cell_type": "code",
   "execution_count": 238,
   "metadata": {},
   "outputs": [
    {
     "output_type": "execute_result",
     "data": {
      "text/plain": [
       "Action       0.164835\n",
       "Sci-Fi       0.263736\n",
       "Adventure    0.186813\n",
       "Comedy       0.186813\n",
       "Drama        0.197802\n",
       "dtype: float64"
      ]
     },
     "metadata": {},
     "execution_count": 238
    }
   ],
   "source": [
    "movies_scoring"
   ]
  },
  {
   "cell_type": "code",
   "execution_count": 239,
   "metadata": {},
   "outputs": [
    {
     "output_type": "execute_result",
     "data": {
      "text/plain": [
       "        movie    Action    Sci-Fi  Adventure    Comedy     Drama  \\\n",
       "0     Titanic  0.164835  0.263736   0.000000  0.000000  0.000000   \n",
       "1     Martian  0.000000  0.263736   0.186813  0.000000  0.197802   \n",
       "2  GOTG Vol 2  0.164835  0.263736   0.186813  0.186813  0.000000   \n",
       "\n",
       "   movie rating pred  \n",
       "0           0.428571  \n",
       "1           0.648352  \n",
       "2           0.802198  "
      ],
      "text/html": "<div>\n<style scoped>\n    .dataframe tbody tr th:only-of-type {\n        vertical-align: middle;\n    }\n\n    .dataframe tbody tr th {\n        vertical-align: top;\n    }\n\n    .dataframe thead th {\n        text-align: right;\n    }\n</style>\n<table border=\"1\" class=\"dataframe\">\n  <thead>\n    <tr style=\"text-align: right;\">\n      <th></th>\n      <th>movie</th>\n      <th>Action</th>\n      <th>Sci-Fi</th>\n      <th>Adventure</th>\n      <th>Comedy</th>\n      <th>Drama</th>\n      <th>movie rating pred</th>\n    </tr>\n  </thead>\n  <tbody>\n    <tr>\n      <th>0</th>\n      <td>Titanic</td>\n      <td>0.164835</td>\n      <td>0.263736</td>\n      <td>0.000000</td>\n      <td>0.000000</td>\n      <td>0.000000</td>\n      <td>0.428571</td>\n    </tr>\n    <tr>\n      <th>1</th>\n      <td>Martian</td>\n      <td>0.000000</td>\n      <td>0.263736</td>\n      <td>0.186813</td>\n      <td>0.000000</td>\n      <td>0.197802</td>\n      <td>0.648352</td>\n    </tr>\n    <tr>\n      <th>2</th>\n      <td>GOTG Vol 2</td>\n      <td>0.164835</td>\n      <td>0.263736</td>\n      <td>0.186813</td>\n      <td>0.186813</td>\n      <td>0.000000</td>\n      <td>0.802198</td>\n    </tr>\n  </tbody>\n</table>\n</div>"
     },
     "metadata": {},
     "execution_count": 239
    }
   ],
   "source": [
    "for i in ['Action','Sci-Fi','Adventure','Comedy','Drama']:\n",
    "    df_movies_recommendation[i] = df_movies_recommendation[i]*movies_scoring[i]\n",
    "\n",
    "df_movies_recommendation['movie rating pred'] = df_movies_recommendation.sum(axis=1)\n",
    "df_movies_recommendation"
   ]
  },
  {
   "cell_type": "code",
   "execution_count": null,
   "metadata": {},
   "outputs": [],
   "source": []
  },
  {
   "source": [
    "## Coba dengan Anime.csv"
   ],
   "cell_type": "markdown",
   "metadata": {}
  },
  {
   "cell_type": "code",
   "execution_count": 270,
   "metadata": {},
   "outputs": [
    {
     "output_type": "execute_result",
     "data": {
      "text/plain": [
       "     action  adventure  cars  comedy  dementia  demons  drama  ecchi  fantasy  \\\n",
       "74        1          1     0       1         0       0      1      0        1   \n",
       "346       0          1     0       1         0       0      0      0        1   \n",
       "841       1          0     0       1         0       0      0      0        0   \n",
       "\n",
       "     game  ...  slice of life  space  sports  super power  supernatural  \\\n",
       "74      0  ...              0      0       0            1             0   \n",
       "346     0  ...              0      0       0            1             0   \n",
       "841     0  ...              0      0       0            1             0   \n",
       "\n",
       "     thriller  vampire  yaoi  yuri         name  \n",
       "74          0        0     0     0    One Piece  \n",
       "346         0        0     0     0  Dragon Ball  \n",
       "841         0        0     0     0       Naruto  \n",
       "\n",
       "[3 rows x 44 columns]"
      ],
      "text/html": "<div>\n<style scoped>\n    .dataframe tbody tr th:only-of-type {\n        vertical-align: middle;\n    }\n\n    .dataframe tbody tr th {\n        vertical-align: top;\n    }\n\n    .dataframe thead th {\n        text-align: right;\n    }\n</style>\n<table border=\"1\" class=\"dataframe\">\n  <thead>\n    <tr style=\"text-align: right;\">\n      <th></th>\n      <th>action</th>\n      <th>adventure</th>\n      <th>cars</th>\n      <th>comedy</th>\n      <th>dementia</th>\n      <th>demons</th>\n      <th>drama</th>\n      <th>ecchi</th>\n      <th>fantasy</th>\n      <th>game</th>\n      <th>...</th>\n      <th>slice of life</th>\n      <th>space</th>\n      <th>sports</th>\n      <th>super power</th>\n      <th>supernatural</th>\n      <th>thriller</th>\n      <th>vampire</th>\n      <th>yaoi</th>\n      <th>yuri</th>\n      <th>name</th>\n    </tr>\n  </thead>\n  <tbody>\n    <tr>\n      <th>74</th>\n      <td>1</td>\n      <td>1</td>\n      <td>0</td>\n      <td>1</td>\n      <td>0</td>\n      <td>0</td>\n      <td>1</td>\n      <td>0</td>\n      <td>1</td>\n      <td>0</td>\n      <td>...</td>\n      <td>0</td>\n      <td>0</td>\n      <td>0</td>\n      <td>1</td>\n      <td>0</td>\n      <td>0</td>\n      <td>0</td>\n      <td>0</td>\n      <td>0</td>\n      <td>One Piece</td>\n    </tr>\n    <tr>\n      <th>346</th>\n      <td>0</td>\n      <td>1</td>\n      <td>0</td>\n      <td>1</td>\n      <td>0</td>\n      <td>0</td>\n      <td>0</td>\n      <td>0</td>\n      <td>1</td>\n      <td>0</td>\n      <td>...</td>\n      <td>0</td>\n      <td>0</td>\n      <td>0</td>\n      <td>1</td>\n      <td>0</td>\n      <td>0</td>\n      <td>0</td>\n      <td>0</td>\n      <td>0</td>\n      <td>Dragon Ball</td>\n    </tr>\n    <tr>\n      <th>841</th>\n      <td>1</td>\n      <td>0</td>\n      <td>0</td>\n      <td>1</td>\n      <td>0</td>\n      <td>0</td>\n      <td>0</td>\n      <td>0</td>\n      <td>0</td>\n      <td>0</td>\n      <td>...</td>\n      <td>0</td>\n      <td>0</td>\n      <td>0</td>\n      <td>1</td>\n      <td>0</td>\n      <td>0</td>\n      <td>0</td>\n      <td>0</td>\n      <td>0</td>\n      <td>Naruto</td>\n    </tr>\n  </tbody>\n</table>\n<p>3 rows × 44 columns</p>\n</div>"
     },
     "metadata": {},
     "execution_count": 270
    }
   ],
   "source": [
    "# buat data frame untuk film2 yg sudah ditonton (untuk movie scoring)\n",
    "df_1 = df_genre[(df_genre['name']=='Dragon Ball') | (df_genre['name']=='One Piece') | (df_genre['name']=='Naruto')]\n",
    "\n",
    "df_1"
   ]
  },
  {
   "cell_type": "code",
   "execution_count": 271,
   "metadata": {},
   "outputs": [
    {
     "output_type": "execute_result",
     "data": {
      "text/plain": [
       "     action  adventure  cars  comedy  dementia  demons  drama  ecchi  fantasy  \\\n",
       "74        1          1     0       1         0       0      1      0        1   \n",
       "346       0          1     0       1         0       0      0      0        1   \n",
       "841       1          0     0       1         0       0      0      0        0   \n",
       "\n",
       "     game  ...  slice of life  space  sports  super power  supernatural  \\\n",
       "74      0  ...              0      0       0            1             0   \n",
       "346     0  ...              0      0       0            1             0   \n",
       "841     0  ...              0      0       0            1             0   \n",
       "\n",
       "     thriller  vampire  yaoi  yuri  scores  \n",
       "74          0        0     0     0    8.58  \n",
       "346         0        0     0     0    8.16  \n",
       "841         0        0     0     0    7.81  \n",
       "\n",
       "[3 rows x 44 columns]"
      ],
      "text/html": "<div>\n<style scoped>\n    .dataframe tbody tr th:only-of-type {\n        vertical-align: middle;\n    }\n\n    .dataframe tbody tr th {\n        vertical-align: top;\n    }\n\n    .dataframe thead th {\n        text-align: right;\n    }\n</style>\n<table border=\"1\" class=\"dataframe\">\n  <thead>\n    <tr style=\"text-align: right;\">\n      <th></th>\n      <th>action</th>\n      <th>adventure</th>\n      <th>cars</th>\n      <th>comedy</th>\n      <th>dementia</th>\n      <th>demons</th>\n      <th>drama</th>\n      <th>ecchi</th>\n      <th>fantasy</th>\n      <th>game</th>\n      <th>...</th>\n      <th>slice of life</th>\n      <th>space</th>\n      <th>sports</th>\n      <th>super power</th>\n      <th>supernatural</th>\n      <th>thriller</th>\n      <th>vampire</th>\n      <th>yaoi</th>\n      <th>yuri</th>\n      <th>scores</th>\n    </tr>\n  </thead>\n  <tbody>\n    <tr>\n      <th>74</th>\n      <td>1</td>\n      <td>1</td>\n      <td>0</td>\n      <td>1</td>\n      <td>0</td>\n      <td>0</td>\n      <td>1</td>\n      <td>0</td>\n      <td>1</td>\n      <td>0</td>\n      <td>...</td>\n      <td>0</td>\n      <td>0</td>\n      <td>0</td>\n      <td>1</td>\n      <td>0</td>\n      <td>0</td>\n      <td>0</td>\n      <td>0</td>\n      <td>0</td>\n      <td>8.58</td>\n    </tr>\n    <tr>\n      <th>346</th>\n      <td>0</td>\n      <td>1</td>\n      <td>0</td>\n      <td>1</td>\n      <td>0</td>\n      <td>0</td>\n      <td>0</td>\n      <td>0</td>\n      <td>1</td>\n      <td>0</td>\n      <td>...</td>\n      <td>0</td>\n      <td>0</td>\n      <td>0</td>\n      <td>1</td>\n      <td>0</td>\n      <td>0</td>\n      <td>0</td>\n      <td>0</td>\n      <td>0</td>\n      <td>8.16</td>\n    </tr>\n    <tr>\n      <th>841</th>\n      <td>1</td>\n      <td>0</td>\n      <td>0</td>\n      <td>1</td>\n      <td>0</td>\n      <td>0</td>\n      <td>0</td>\n      <td>0</td>\n      <td>0</td>\n      <td>0</td>\n      <td>...</td>\n      <td>0</td>\n      <td>0</td>\n      <td>0</td>\n      <td>1</td>\n      <td>0</td>\n      <td>0</td>\n      <td>0</td>\n      <td>0</td>\n      <td>0</td>\n      <td>7.81</td>\n    </tr>\n  </tbody>\n</table>\n<p>3 rows × 44 columns</p>\n</div>"
     },
     "metadata": {},
     "execution_count": 271
    }
   ],
   "source": [
    "# buang column name\n",
    "df_2 = df_1.copy()\n",
    "df_2 = df_2.drop(columns='name')\n",
    "\n",
    "# tambahkan column score, berasal dari rating anime\n",
    "df_2['scores'] = df_anime['rating']\n",
    "df_2"
   ]
  },
  {
   "cell_type": "code",
   "execution_count": 272,
   "metadata": {},
   "outputs": [
    {
     "output_type": "execute_result",
     "data": {
      "text/plain": [
       "     action  adventure  cars  comedy  dementia  demons  drama  ecchi  fantasy  \\\n",
       "74     8.58       8.58   0.0    8.58       0.0     0.0   8.58    0.0     8.58   \n",
       "346    0.00       8.16   0.0    8.16       0.0     0.0   0.00    0.0     8.16   \n",
       "841    7.81       0.00   0.0    7.81       0.0     0.0   0.00    0.0     0.00   \n",
       "\n",
       "     game  ...  slice of life  space  sports  super power  supernatural  \\\n",
       "74    0.0  ...            0.0    0.0     0.0         8.58           0.0   \n",
       "346   0.0  ...            0.0    0.0     0.0         8.16           0.0   \n",
       "841   0.0  ...            0.0    0.0     0.0         7.81           0.0   \n",
       "\n",
       "     thriller  vampire  yaoi  yuri  scores  \n",
       "74        0.0      0.0   0.0   0.0    8.58  \n",
       "346       0.0      0.0   0.0   0.0    8.16  \n",
       "841       0.0      0.0   0.0   0.0    7.81  \n",
       "\n",
       "[3 rows x 44 columns]"
      ],
      "text/html": "<div>\n<style scoped>\n    .dataframe tbody tr th:only-of-type {\n        vertical-align: middle;\n    }\n\n    .dataframe tbody tr th {\n        vertical-align: top;\n    }\n\n    .dataframe thead th {\n        text-align: right;\n    }\n</style>\n<table border=\"1\" class=\"dataframe\">\n  <thead>\n    <tr style=\"text-align: right;\">\n      <th></th>\n      <th>action</th>\n      <th>adventure</th>\n      <th>cars</th>\n      <th>comedy</th>\n      <th>dementia</th>\n      <th>demons</th>\n      <th>drama</th>\n      <th>ecchi</th>\n      <th>fantasy</th>\n      <th>game</th>\n      <th>...</th>\n      <th>slice of life</th>\n      <th>space</th>\n      <th>sports</th>\n      <th>super power</th>\n      <th>supernatural</th>\n      <th>thriller</th>\n      <th>vampire</th>\n      <th>yaoi</th>\n      <th>yuri</th>\n      <th>scores</th>\n    </tr>\n  </thead>\n  <tbody>\n    <tr>\n      <th>74</th>\n      <td>8.58</td>\n      <td>8.58</td>\n      <td>0.0</td>\n      <td>8.58</td>\n      <td>0.0</td>\n      <td>0.0</td>\n      <td>8.58</td>\n      <td>0.0</td>\n      <td>8.58</td>\n      <td>0.0</td>\n      <td>...</td>\n      <td>0.0</td>\n      <td>0.0</td>\n      <td>0.0</td>\n      <td>8.58</td>\n      <td>0.0</td>\n      <td>0.0</td>\n      <td>0.0</td>\n      <td>0.0</td>\n      <td>0.0</td>\n      <td>8.58</td>\n    </tr>\n    <tr>\n      <th>346</th>\n      <td>0.00</td>\n      <td>8.16</td>\n      <td>0.0</td>\n      <td>8.16</td>\n      <td>0.0</td>\n      <td>0.0</td>\n      <td>0.00</td>\n      <td>0.0</td>\n      <td>8.16</td>\n      <td>0.0</td>\n      <td>...</td>\n      <td>0.0</td>\n      <td>0.0</td>\n      <td>0.0</td>\n      <td>8.16</td>\n      <td>0.0</td>\n      <td>0.0</td>\n      <td>0.0</td>\n      <td>0.0</td>\n      <td>0.0</td>\n      <td>8.16</td>\n    </tr>\n    <tr>\n      <th>841</th>\n      <td>7.81</td>\n      <td>0.00</td>\n      <td>0.0</td>\n      <td>7.81</td>\n      <td>0.0</td>\n      <td>0.0</td>\n      <td>0.00</td>\n      <td>0.0</td>\n      <td>0.00</td>\n      <td>0.0</td>\n      <td>...</td>\n      <td>0.0</td>\n      <td>0.0</td>\n      <td>0.0</td>\n      <td>7.81</td>\n      <td>0.0</td>\n      <td>0.0</td>\n      <td>0.0</td>\n      <td>0.0</td>\n      <td>0.0</td>\n      <td>7.81</td>\n    </tr>\n  </tbody>\n</table>\n<p>3 rows × 44 columns</p>\n</div>"
     },
     "metadata": {},
     "execution_count": 272
    }
   ],
   "source": [
    "# for loop genre dikali score\n",
    "for i in list(df_2.columns)[:-1]:\n",
    "    df_2[i] = df_2['scores']*df_2[i]\n",
    "\n",
    "df_2"
   ]
  },
  {
   "cell_type": "code",
   "execution_count": 273,
   "metadata": {},
   "outputs": [],
   "source": [
    "# buang column scores, soalnya nanti mau ngitung scoring\n",
    "df_2 = df_2.drop(columns='scores')"
   ]
  },
  {
   "cell_type": "code",
   "execution_count": 274,
   "metadata": {},
   "outputs": [
    {
     "output_type": "execute_result",
     "data": {
      "text/plain": [
       "action           0.110691\n",
       "adventure        0.113055\n",
       "cars             0.000000\n",
       "comedy           0.165800\n",
       "dementia         0.000000\n",
       "demons           0.000000\n",
       "drama            0.057946\n",
       "ecchi            0.000000\n",
       "fantasy          0.113055\n",
       "game             0.000000\n",
       "harem            0.000000\n",
       "hentai           0.000000\n",
       "historical       0.000000\n",
       "horror           0.000000\n",
       "josei            0.000000\n",
       "kids             0.000000\n",
       "magic            0.000000\n",
       "martial arts     0.107854\n",
       "mecha            0.000000\n",
       "military         0.000000\n",
       "music            0.000000\n",
       "mystery          0.000000\n",
       "parody           0.000000\n",
       "police           0.000000\n",
       "psychological    0.000000\n",
       "romance          0.000000\n",
       "samurai          0.000000\n",
       "school           0.000000\n",
       "sci-fi           0.000000\n",
       "seinen           0.000000\n",
       "shoujo           0.000000\n",
       "shoujo ai        0.000000\n",
       "shounen          0.165800\n",
       "shounen ai       0.000000\n",
       "slice of life    0.000000\n",
       "space            0.000000\n",
       "sports           0.000000\n",
       "super power      0.165800\n",
       "supernatural     0.000000\n",
       "thriller         0.000000\n",
       "vampire          0.000000\n",
       "yaoi             0.000000\n",
       "yuri             0.000000\n",
       "dtype: float64"
      ]
     },
     "metadata": {},
     "execution_count": 274
    }
   ],
   "source": [
    "# anime scoring\n",
    "anime_scoring = df_2.sum()/df_2.sum().sum()\n",
    "anime_scoring # user feature vector"
   ]
  },
  {
   "cell_type": "code",
   "execution_count": 281,
   "metadata": {},
   "outputs": [
    {
     "output_type": "execute_result",
     "data": {
      "text/plain": [
       "       action  adventure  cars  comedy  dementia  demons  drama  ecchi  \\\n",
       "0           0          0     0       0         0       0      1      0   \n",
       "1           1          1     0       0         0       0      1      0   \n",
       "2           1          0     0       1         0       0      0      0   \n",
       "3           0          0     0       0         0       0      0      0   \n",
       "4           1          0     0       1         0       0      0      0   \n",
       "...       ...        ...   ...     ...       ...     ...    ...    ...   \n",
       "12012       0          0     0       0         0       0      0      0   \n",
       "12013       0          0     0       0         0       0      0      0   \n",
       "12014       0          0     0       0         0       0      0      0   \n",
       "12015       0          0     0       0         0       0      0      0   \n",
       "12016       0          0     0       0         0       0      0      0   \n",
       "\n",
       "       fantasy  game  ...  slice of life  space  sports  super power  \\\n",
       "0            0     0  ...              0      0       0            0   \n",
       "1            1     0  ...              0      0       0            0   \n",
       "2            0     0  ...              0      0       0            0   \n",
       "3            0     0  ...              0      0       0            0   \n",
       "4            0     0  ...              0      0       0            0   \n",
       "...        ...   ...  ...            ...    ...     ...          ...   \n",
       "12012        0     0  ...              0      0       0            0   \n",
       "12013        0     0  ...              0      0       0            0   \n",
       "12014        0     0  ...              0      0       0            0   \n",
       "12015        0     0  ...              0      0       0            0   \n",
       "12016        0     0  ...              0      0       0            0   \n",
       "\n",
       "       supernatural  thriller  vampire  yaoi  yuri  \\\n",
       "0                 1         0        0     0     0   \n",
       "1                 0         0        0     0     0   \n",
       "2                 0         0        0     0     0   \n",
       "3                 0         1        0     0     0   \n",
       "4                 0         0        0     0     0   \n",
       "...             ...       ...      ...   ...   ...   \n",
       "12012             0         0        0     0     0   \n",
       "12013             0         0        0     0     0   \n",
       "12014             0         0        0     0     0   \n",
       "12015             0         0        0     0     0   \n",
       "12016             0         0        0     0     0   \n",
       "\n",
       "                                         name  \n",
       "0                              Kimi no Na wa.  \n",
       "1            Fullmetal Alchemist: Brotherhood  \n",
       "2                                    Gintama°  \n",
       "3                                 Steins;Gate  \n",
       "4                               Gintama&#039;  \n",
       "...                                       ...  \n",
       "12012                Megami Tantei Vinus File  \n",
       "12013                                 Shusaku  \n",
       "12014  Bakuhatsu Sunzen!! Tenshi no Countdown  \n",
       "12015                           Dragon Knight  \n",
       "12016                               Five Card  \n",
       "\n",
       "[12017 rows x 44 columns]"
      ],
      "text/html": "<div>\n<style scoped>\n    .dataframe tbody tr th:only-of-type {\n        vertical-align: middle;\n    }\n\n    .dataframe tbody tr th {\n        vertical-align: top;\n    }\n\n    .dataframe thead th {\n        text-align: right;\n    }\n</style>\n<table border=\"1\" class=\"dataframe\">\n  <thead>\n    <tr style=\"text-align: right;\">\n      <th></th>\n      <th>action</th>\n      <th>adventure</th>\n      <th>cars</th>\n      <th>comedy</th>\n      <th>dementia</th>\n      <th>demons</th>\n      <th>drama</th>\n      <th>ecchi</th>\n      <th>fantasy</th>\n      <th>game</th>\n      <th>...</th>\n      <th>slice of life</th>\n      <th>space</th>\n      <th>sports</th>\n      <th>super power</th>\n      <th>supernatural</th>\n      <th>thriller</th>\n      <th>vampire</th>\n      <th>yaoi</th>\n      <th>yuri</th>\n      <th>name</th>\n    </tr>\n  </thead>\n  <tbody>\n    <tr>\n      <th>0</th>\n      <td>0</td>\n      <td>0</td>\n      <td>0</td>\n      <td>0</td>\n      <td>0</td>\n      <td>0</td>\n      <td>1</td>\n      <td>0</td>\n      <td>0</td>\n      <td>0</td>\n      <td>...</td>\n      <td>0</td>\n      <td>0</td>\n      <td>0</td>\n      <td>0</td>\n      <td>1</td>\n      <td>0</td>\n      <td>0</td>\n      <td>0</td>\n      <td>0</td>\n      <td>Kimi no Na wa.</td>\n    </tr>\n    <tr>\n      <th>1</th>\n      <td>1</td>\n      <td>1</td>\n      <td>0</td>\n      <td>0</td>\n      <td>0</td>\n      <td>0</td>\n      <td>1</td>\n      <td>0</td>\n      <td>1</td>\n      <td>0</td>\n      <td>...</td>\n      <td>0</td>\n      <td>0</td>\n      <td>0</td>\n      <td>0</td>\n      <td>0</td>\n      <td>0</td>\n      <td>0</td>\n      <td>0</td>\n      <td>0</td>\n      <td>Fullmetal Alchemist: Brotherhood</td>\n    </tr>\n    <tr>\n      <th>2</th>\n      <td>1</td>\n      <td>0</td>\n      <td>0</td>\n      <td>1</td>\n      <td>0</td>\n      <td>0</td>\n      <td>0</td>\n      <td>0</td>\n      <td>0</td>\n      <td>0</td>\n      <td>...</td>\n      <td>0</td>\n      <td>0</td>\n      <td>0</td>\n      <td>0</td>\n      <td>0</td>\n      <td>0</td>\n      <td>0</td>\n      <td>0</td>\n      <td>0</td>\n      <td>Gintama°</td>\n    </tr>\n    <tr>\n      <th>3</th>\n      <td>0</td>\n      <td>0</td>\n      <td>0</td>\n      <td>0</td>\n      <td>0</td>\n      <td>0</td>\n      <td>0</td>\n      <td>0</td>\n      <td>0</td>\n      <td>0</td>\n      <td>...</td>\n      <td>0</td>\n      <td>0</td>\n      <td>0</td>\n      <td>0</td>\n      <td>0</td>\n      <td>1</td>\n      <td>0</td>\n      <td>0</td>\n      <td>0</td>\n      <td>Steins;Gate</td>\n    </tr>\n    <tr>\n      <th>4</th>\n      <td>1</td>\n      <td>0</td>\n      <td>0</td>\n      <td>1</td>\n      <td>0</td>\n      <td>0</td>\n      <td>0</td>\n      <td>0</td>\n      <td>0</td>\n      <td>0</td>\n      <td>...</td>\n      <td>0</td>\n      <td>0</td>\n      <td>0</td>\n      <td>0</td>\n      <td>0</td>\n      <td>0</td>\n      <td>0</td>\n      <td>0</td>\n      <td>0</td>\n      <td>Gintama&amp;#039;</td>\n    </tr>\n    <tr>\n      <th>...</th>\n      <td>...</td>\n      <td>...</td>\n      <td>...</td>\n      <td>...</td>\n      <td>...</td>\n      <td>...</td>\n      <td>...</td>\n      <td>...</td>\n      <td>...</td>\n      <td>...</td>\n      <td>...</td>\n      <td>...</td>\n      <td>...</td>\n      <td>...</td>\n      <td>...</td>\n      <td>...</td>\n      <td>...</td>\n      <td>...</td>\n      <td>...</td>\n      <td>...</td>\n      <td>...</td>\n    </tr>\n    <tr>\n      <th>12012</th>\n      <td>0</td>\n      <td>0</td>\n      <td>0</td>\n      <td>0</td>\n      <td>0</td>\n      <td>0</td>\n      <td>0</td>\n      <td>0</td>\n      <td>0</td>\n      <td>0</td>\n      <td>...</td>\n      <td>0</td>\n      <td>0</td>\n      <td>0</td>\n      <td>0</td>\n      <td>0</td>\n      <td>0</td>\n      <td>0</td>\n      <td>0</td>\n      <td>0</td>\n      <td>Megami Tantei Vinus File</td>\n    </tr>\n    <tr>\n      <th>12013</th>\n      <td>0</td>\n      <td>0</td>\n      <td>0</td>\n      <td>0</td>\n      <td>0</td>\n      <td>0</td>\n      <td>0</td>\n      <td>0</td>\n      <td>0</td>\n      <td>0</td>\n      <td>...</td>\n      <td>0</td>\n      <td>0</td>\n      <td>0</td>\n      <td>0</td>\n      <td>0</td>\n      <td>0</td>\n      <td>0</td>\n      <td>0</td>\n      <td>0</td>\n      <td>Shusaku</td>\n    </tr>\n    <tr>\n      <th>12014</th>\n      <td>0</td>\n      <td>0</td>\n      <td>0</td>\n      <td>0</td>\n      <td>0</td>\n      <td>0</td>\n      <td>0</td>\n      <td>0</td>\n      <td>0</td>\n      <td>0</td>\n      <td>...</td>\n      <td>0</td>\n      <td>0</td>\n      <td>0</td>\n      <td>0</td>\n      <td>0</td>\n      <td>0</td>\n      <td>0</td>\n      <td>0</td>\n      <td>0</td>\n      <td>Bakuhatsu Sunzen!! Tenshi no Countdown</td>\n    </tr>\n    <tr>\n      <th>12015</th>\n      <td>0</td>\n      <td>0</td>\n      <td>0</td>\n      <td>0</td>\n      <td>0</td>\n      <td>0</td>\n      <td>0</td>\n      <td>0</td>\n      <td>0</td>\n      <td>0</td>\n      <td>...</td>\n      <td>0</td>\n      <td>0</td>\n      <td>0</td>\n      <td>0</td>\n      <td>0</td>\n      <td>0</td>\n      <td>0</td>\n      <td>0</td>\n      <td>0</td>\n      <td>Dragon Knight</td>\n    </tr>\n    <tr>\n      <th>12016</th>\n      <td>0</td>\n      <td>0</td>\n      <td>0</td>\n      <td>0</td>\n      <td>0</td>\n      <td>0</td>\n      <td>0</td>\n      <td>0</td>\n      <td>0</td>\n      <td>0</td>\n      <td>...</td>\n      <td>0</td>\n      <td>0</td>\n      <td>0</td>\n      <td>0</td>\n      <td>0</td>\n      <td>0</td>\n      <td>0</td>\n      <td>0</td>\n      <td>0</td>\n      <td>Five Card</td>\n    </tr>\n  </tbody>\n</table>\n<p>12017 rows × 44 columns</p>\n</div>"
     },
     "metadata": {},
     "execution_count": 281
    }
   ],
   "source": [
    "# buat dataframe tanpa anime yg sudah ditonton\n",
    "\n",
    "df_anime_recommendation = df_genre[(df_genre['name']!='Dragon Ball') | (df_genre['name']!='One Piece') | (df_genre['name']!='Naruto')]\n",
    "\n",
    "df_anime_recommendation"
   ]
  },
  {
   "cell_type": "code",
   "execution_count": null,
   "metadata": {},
   "outputs": [],
   "source": []
  },
  {
   "cell_type": "code",
   "execution_count": 282,
   "metadata": {},
   "outputs": [
    {
     "output_type": "execute_result",
     "data": {
      "text/plain": [
       "         action  adventure  cars  comedy  dementia  demons     drama  ecchi  \\\n",
       "0      0.000000   0.000000   0.0  0.0000       0.0     0.0  0.057946    0.0   \n",
       "1      0.110691   0.113055   0.0  0.0000       0.0     0.0  0.057946    0.0   \n",
       "2      0.110691   0.000000   0.0  0.1658       0.0     0.0  0.000000    0.0   \n",
       "3      0.000000   0.000000   0.0  0.0000       0.0     0.0  0.000000    0.0   \n",
       "4      0.110691   0.000000   0.0  0.1658       0.0     0.0  0.000000    0.0   \n",
       "...         ...        ...   ...     ...       ...     ...       ...    ...   \n",
       "12012  0.000000   0.000000   0.0  0.0000       0.0     0.0  0.000000    0.0   \n",
       "12013  0.000000   0.000000   0.0  0.0000       0.0     0.0  0.000000    0.0   \n",
       "12014  0.000000   0.000000   0.0  0.0000       0.0     0.0  0.000000    0.0   \n",
       "12015  0.000000   0.000000   0.0  0.0000       0.0     0.0  0.000000    0.0   \n",
       "12016  0.000000   0.000000   0.0  0.0000       0.0     0.0  0.000000    0.0   \n",
       "\n",
       "        fantasy  game  ...  space  sports  super power  supernatural  \\\n",
       "0      0.000000   0.0  ...    0.0     0.0          0.0           0.0   \n",
       "1      0.113055   0.0  ...    0.0     0.0          0.0           0.0   \n",
       "2      0.000000   0.0  ...    0.0     0.0          0.0           0.0   \n",
       "3      0.000000   0.0  ...    0.0     0.0          0.0           0.0   \n",
       "4      0.000000   0.0  ...    0.0     0.0          0.0           0.0   \n",
       "...         ...   ...  ...    ...     ...          ...           ...   \n",
       "12012  0.000000   0.0  ...    0.0     0.0          0.0           0.0   \n",
       "12013  0.000000   0.0  ...    0.0     0.0          0.0           0.0   \n",
       "12014  0.000000   0.0  ...    0.0     0.0          0.0           0.0   \n",
       "12015  0.000000   0.0  ...    0.0     0.0          0.0           0.0   \n",
       "12016  0.000000   0.0  ...    0.0     0.0          0.0           0.0   \n",
       "\n",
       "       thriller  vampire  yaoi  yuri                                    name  \\\n",
       "0           0.0      0.0   0.0   0.0                          Kimi no Na wa.   \n",
       "1           0.0      0.0   0.0   0.0        Fullmetal Alchemist: Brotherhood   \n",
       "2           0.0      0.0   0.0   0.0                                Gintama°   \n",
       "3           0.0      0.0   0.0   0.0                             Steins;Gate   \n",
       "4           0.0      0.0   0.0   0.0                           Gintama&#039;   \n",
       "...         ...      ...   ...   ...                                     ...   \n",
       "12012       0.0      0.0   0.0   0.0                Megami Tantei Vinus File   \n",
       "12013       0.0      0.0   0.0   0.0                                 Shusaku   \n",
       "12014       0.0      0.0   0.0   0.0  Bakuhatsu Sunzen!! Tenshi no Countdown   \n",
       "12015       0.0      0.0   0.0   0.0                           Dragon Knight   \n",
       "12016       0.0      0.0   0.0   0.0                               Five Card   \n",
       "\n",
       "       anime rating pred  \n",
       "0               0.057946  \n",
       "1               0.560546  \n",
       "2               0.442291  \n",
       "3               0.000000  \n",
       "4               0.442291  \n",
       "...                  ...  \n",
       "12012           0.000000  \n",
       "12013           0.000000  \n",
       "12014           0.000000  \n",
       "12015           0.000000  \n",
       "12016           0.000000  \n",
       "\n",
       "[12017 rows x 45 columns]"
      ],
      "text/html": "<div>\n<style scoped>\n    .dataframe tbody tr th:only-of-type {\n        vertical-align: middle;\n    }\n\n    .dataframe tbody tr th {\n        vertical-align: top;\n    }\n\n    .dataframe thead th {\n        text-align: right;\n    }\n</style>\n<table border=\"1\" class=\"dataframe\">\n  <thead>\n    <tr style=\"text-align: right;\">\n      <th></th>\n      <th>action</th>\n      <th>adventure</th>\n      <th>cars</th>\n      <th>comedy</th>\n      <th>dementia</th>\n      <th>demons</th>\n      <th>drama</th>\n      <th>ecchi</th>\n      <th>fantasy</th>\n      <th>game</th>\n      <th>...</th>\n      <th>space</th>\n      <th>sports</th>\n      <th>super power</th>\n      <th>supernatural</th>\n      <th>thriller</th>\n      <th>vampire</th>\n      <th>yaoi</th>\n      <th>yuri</th>\n      <th>name</th>\n      <th>anime rating pred</th>\n    </tr>\n  </thead>\n  <tbody>\n    <tr>\n      <th>0</th>\n      <td>0.000000</td>\n      <td>0.000000</td>\n      <td>0.0</td>\n      <td>0.0000</td>\n      <td>0.0</td>\n      <td>0.0</td>\n      <td>0.057946</td>\n      <td>0.0</td>\n      <td>0.000000</td>\n      <td>0.0</td>\n      <td>...</td>\n      <td>0.0</td>\n      <td>0.0</td>\n      <td>0.0</td>\n      <td>0.0</td>\n      <td>0.0</td>\n      <td>0.0</td>\n      <td>0.0</td>\n      <td>0.0</td>\n      <td>Kimi no Na wa.</td>\n      <td>0.057946</td>\n    </tr>\n    <tr>\n      <th>1</th>\n      <td>0.110691</td>\n      <td>0.113055</td>\n      <td>0.0</td>\n      <td>0.0000</td>\n      <td>0.0</td>\n      <td>0.0</td>\n      <td>0.057946</td>\n      <td>0.0</td>\n      <td>0.113055</td>\n      <td>0.0</td>\n      <td>...</td>\n      <td>0.0</td>\n      <td>0.0</td>\n      <td>0.0</td>\n      <td>0.0</td>\n      <td>0.0</td>\n      <td>0.0</td>\n      <td>0.0</td>\n      <td>0.0</td>\n      <td>Fullmetal Alchemist: Brotherhood</td>\n      <td>0.560546</td>\n    </tr>\n    <tr>\n      <th>2</th>\n      <td>0.110691</td>\n      <td>0.000000</td>\n      <td>0.0</td>\n      <td>0.1658</td>\n      <td>0.0</td>\n      <td>0.0</td>\n      <td>0.000000</td>\n      <td>0.0</td>\n      <td>0.000000</td>\n      <td>0.0</td>\n      <td>...</td>\n      <td>0.0</td>\n      <td>0.0</td>\n      <td>0.0</td>\n      <td>0.0</td>\n      <td>0.0</td>\n      <td>0.0</td>\n      <td>0.0</td>\n      <td>0.0</td>\n      <td>Gintama°</td>\n      <td>0.442291</td>\n    </tr>\n    <tr>\n      <th>3</th>\n      <td>0.000000</td>\n      <td>0.000000</td>\n      <td>0.0</td>\n      <td>0.0000</td>\n      <td>0.0</td>\n      <td>0.0</td>\n      <td>0.000000</td>\n      <td>0.0</td>\n      <td>0.000000</td>\n      <td>0.0</td>\n      <td>...</td>\n      <td>0.0</td>\n      <td>0.0</td>\n      <td>0.0</td>\n      <td>0.0</td>\n      <td>0.0</td>\n      <td>0.0</td>\n      <td>0.0</td>\n      <td>0.0</td>\n      <td>Steins;Gate</td>\n      <td>0.000000</td>\n    </tr>\n    <tr>\n      <th>4</th>\n      <td>0.110691</td>\n      <td>0.000000</td>\n      <td>0.0</td>\n      <td>0.1658</td>\n      <td>0.0</td>\n      <td>0.0</td>\n      <td>0.000000</td>\n      <td>0.0</td>\n      <td>0.000000</td>\n      <td>0.0</td>\n      <td>...</td>\n      <td>0.0</td>\n      <td>0.0</td>\n      <td>0.0</td>\n      <td>0.0</td>\n      <td>0.0</td>\n      <td>0.0</td>\n      <td>0.0</td>\n      <td>0.0</td>\n      <td>Gintama&amp;#039;</td>\n      <td>0.442291</td>\n    </tr>\n    <tr>\n      <th>...</th>\n      <td>...</td>\n      <td>...</td>\n      <td>...</td>\n      <td>...</td>\n      <td>...</td>\n      <td>...</td>\n      <td>...</td>\n      <td>...</td>\n      <td>...</td>\n      <td>...</td>\n      <td>...</td>\n      <td>...</td>\n      <td>...</td>\n      <td>...</td>\n      <td>...</td>\n      <td>...</td>\n      <td>...</td>\n      <td>...</td>\n      <td>...</td>\n      <td>...</td>\n      <td>...</td>\n    </tr>\n    <tr>\n      <th>12012</th>\n      <td>0.000000</td>\n      <td>0.000000</td>\n      <td>0.0</td>\n      <td>0.0000</td>\n      <td>0.0</td>\n      <td>0.0</td>\n      <td>0.000000</td>\n      <td>0.0</td>\n      <td>0.000000</td>\n      <td>0.0</td>\n      <td>...</td>\n      <td>0.0</td>\n      <td>0.0</td>\n      <td>0.0</td>\n      <td>0.0</td>\n      <td>0.0</td>\n      <td>0.0</td>\n      <td>0.0</td>\n      <td>0.0</td>\n      <td>Megami Tantei Vinus File</td>\n      <td>0.000000</td>\n    </tr>\n    <tr>\n      <th>12013</th>\n      <td>0.000000</td>\n      <td>0.000000</td>\n      <td>0.0</td>\n      <td>0.0000</td>\n      <td>0.0</td>\n      <td>0.0</td>\n      <td>0.000000</td>\n      <td>0.0</td>\n      <td>0.000000</td>\n      <td>0.0</td>\n      <td>...</td>\n      <td>0.0</td>\n      <td>0.0</td>\n      <td>0.0</td>\n      <td>0.0</td>\n      <td>0.0</td>\n      <td>0.0</td>\n      <td>0.0</td>\n      <td>0.0</td>\n      <td>Shusaku</td>\n      <td>0.000000</td>\n    </tr>\n    <tr>\n      <th>12014</th>\n      <td>0.000000</td>\n      <td>0.000000</td>\n      <td>0.0</td>\n      <td>0.0000</td>\n      <td>0.0</td>\n      <td>0.0</td>\n      <td>0.000000</td>\n      <td>0.0</td>\n      <td>0.000000</td>\n      <td>0.0</td>\n      <td>...</td>\n      <td>0.0</td>\n      <td>0.0</td>\n      <td>0.0</td>\n      <td>0.0</td>\n      <td>0.0</td>\n      <td>0.0</td>\n      <td>0.0</td>\n      <td>0.0</td>\n      <td>Bakuhatsu Sunzen!! Tenshi no Countdown</td>\n      <td>0.000000</td>\n    </tr>\n    <tr>\n      <th>12015</th>\n      <td>0.000000</td>\n      <td>0.000000</td>\n      <td>0.0</td>\n      <td>0.0000</td>\n      <td>0.0</td>\n      <td>0.0</td>\n      <td>0.000000</td>\n      <td>0.0</td>\n      <td>0.000000</td>\n      <td>0.0</td>\n      <td>...</td>\n      <td>0.0</td>\n      <td>0.0</td>\n      <td>0.0</td>\n      <td>0.0</td>\n      <td>0.0</td>\n      <td>0.0</td>\n      <td>0.0</td>\n      <td>0.0</td>\n      <td>Dragon Knight</td>\n      <td>0.000000</td>\n    </tr>\n    <tr>\n      <th>12016</th>\n      <td>0.000000</td>\n      <td>0.000000</td>\n      <td>0.0</td>\n      <td>0.0000</td>\n      <td>0.0</td>\n      <td>0.0</td>\n      <td>0.000000</td>\n      <td>0.0</td>\n      <td>0.000000</td>\n      <td>0.0</td>\n      <td>...</td>\n      <td>0.0</td>\n      <td>0.0</td>\n      <td>0.0</td>\n      <td>0.0</td>\n      <td>0.0</td>\n      <td>0.0</td>\n      <td>0.0</td>\n      <td>0.0</td>\n      <td>Five Card</td>\n      <td>0.000000</td>\n    </tr>\n  </tbody>\n</table>\n<p>12017 rows × 45 columns</p>\n</div>"
     },
     "metadata": {},
     "execution_count": 282
    }
   ],
   "source": [
    "# score genre dikali dengan anime scoring \n",
    "for i in list(df_2.columns):\n",
    "    df_anime_recommendation[i] = df_anime_recommendation[i]*anime_scoring[i]\n",
    "\n",
    "# jumlahkan score dari setiap genre pada masing2 anime\n",
    "df_anime_recommendation['anime rating pred'] = df_anime_recommendation.sum(axis=1)\n",
    "df_anime_recommendation"
   ]
  },
  {
   "source": [
    "## Kesimpulan"
   ],
   "cell_type": "markdown",
   "metadata": {}
  },
  {
   "cell_type": "code",
   "execution_count": 287,
   "metadata": {},
   "outputs": [
    {
     "output_type": "execute_result",
     "data": {
      "text/plain": [
       "                                                   name  anime rating pred\n",
       "4312  Dog Days&#039;&#039;: Limone Resort Tenbou Onsen!           0.942054\n",
       "5997                                           Colorful           0.942054\n",
       "588                                     Dragon Ball Kai           0.942054\n",
       "3202         Dragon Ball Movie 1: Shen Long no Densetsu           0.942054\n",
       "1931                    Dragon Ball: Episode of Bardock           0.942054\n",
       "3407                                Cossette no Shouzou           0.942054\n",
       "1930                                  Dragon Ball Super           0.942054\n",
       "1409              Dragon Ball Z Movie 15: Fukkatsu no F           0.942054\n",
       "515                              Dragon Ball Kai (2014)           0.942054\n",
       "2980                                          Dr. Slump           0.942054"
      ],
      "text/html": "<div>\n<style scoped>\n    .dataframe tbody tr th:only-of-type {\n        vertical-align: middle;\n    }\n\n    .dataframe tbody tr th {\n        vertical-align: top;\n    }\n\n    .dataframe thead th {\n        text-align: right;\n    }\n</style>\n<table border=\"1\" class=\"dataframe\">\n  <thead>\n    <tr style=\"text-align: right;\">\n      <th></th>\n      <th>name</th>\n      <th>anime rating pred</th>\n    </tr>\n  </thead>\n  <tbody>\n    <tr>\n      <th>4312</th>\n      <td>Dog Days&amp;#039;&amp;#039;: Limone Resort Tenbou Onsen!</td>\n      <td>0.942054</td>\n    </tr>\n    <tr>\n      <th>5997</th>\n      <td>Colorful</td>\n      <td>0.942054</td>\n    </tr>\n    <tr>\n      <th>588</th>\n      <td>Dragon Ball Kai</td>\n      <td>0.942054</td>\n    </tr>\n    <tr>\n      <th>3202</th>\n      <td>Dragon Ball Movie 1: Shen Long no Densetsu</td>\n      <td>0.942054</td>\n    </tr>\n    <tr>\n      <th>1931</th>\n      <td>Dragon Ball: Episode of Bardock</td>\n      <td>0.942054</td>\n    </tr>\n    <tr>\n      <th>3407</th>\n      <td>Cossette no Shouzou</td>\n      <td>0.942054</td>\n    </tr>\n    <tr>\n      <th>1930</th>\n      <td>Dragon Ball Super</td>\n      <td>0.942054</td>\n    </tr>\n    <tr>\n      <th>1409</th>\n      <td>Dragon Ball Z Movie 15: Fukkatsu no F</td>\n      <td>0.942054</td>\n    </tr>\n    <tr>\n      <th>515</th>\n      <td>Dragon Ball Kai (2014)</td>\n      <td>0.942054</td>\n    </tr>\n    <tr>\n      <th>2980</th>\n      <td>Dr. Slump</td>\n      <td>0.942054</td>\n    </tr>\n  </tbody>\n</table>\n</div>"
     },
     "metadata": {},
     "execution_count": 287
    }
   ],
   "source": [
    "# top 10 rekomendasi berdasarkan anime rating pred\n",
    "df_anime_recommendation.sort_values(by='anime rating pred', ascending=False).head(10).loc[:,['name','anime rating pred']]"
   ]
  },
  {
   "cell_type": "code",
   "execution_count": null,
   "metadata": {},
   "outputs": [],
   "source": []
  },
  {
   "cell_type": "code",
   "execution_count": null,
   "metadata": {},
   "outputs": [],
   "source": []
  },
  {
   "cell_type": "code",
   "execution_count": null,
   "metadata": {},
   "outputs": [],
   "source": []
  },
  {
   "cell_type": "code",
   "execution_count": null,
   "metadata": {},
   "outputs": [],
   "source": []
  },
  {
   "cell_type": "code",
   "execution_count": null,
   "metadata": {},
   "outputs": [],
   "source": []
  },
  {
   "cell_type": "code",
   "execution_count": null,
   "metadata": {},
   "outputs": [],
   "source": []
  },
  {
   "cell_type": "code",
   "execution_count": null,
   "metadata": {},
   "outputs": [],
   "source": []
  },
  {
   "cell_type": "code",
   "execution_count": null,
   "metadata": {},
   "outputs": [],
   "source": []
  },
  {
   "cell_type": "code",
   "execution_count": null,
   "metadata": {},
   "outputs": [],
   "source": []
  },
  {
   "cell_type": "code",
   "execution_count": null,
   "metadata": {},
   "outputs": [],
   "source": []
  },
  {
   "cell_type": "code",
   "execution_count": null,
   "metadata": {},
   "outputs": [],
   "source": []
  },
  {
   "cell_type": "code",
   "execution_count": null,
   "metadata": {},
   "outputs": [],
   "source": []
  }
 ]
}